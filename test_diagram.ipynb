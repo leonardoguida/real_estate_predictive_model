{
 "cells": [
  {
   "cell_type": "code",
   "execution_count": 4,
   "metadata": {},
   "outputs": [],
   "source": [
    "# from csv_to_er_diagram import ERDiagramGenerator\n"
   ]
  },
  {
   "cell_type": "code",
   "execution_count": 5,
   "metadata": {},
   "outputs": [],
   "source": [
    "# er_generator = ERDiagramGenerator(csv_directory=\"file_ingestion\")\n",
    "# er_generator.load_csv_files()\n",
    "# er_generator.generate_diagram()\n"
   ]
  }
 ],
 "metadata": {
  "kernelspec": {
   "display_name": "leonardo.venv",
   "language": "python",
   "name": "python3"
  },
  "language_info": {
   "codemirror_mode": {
    "name": "ipython",
    "version": 3
   },
   "file_extension": ".py",
   "mimetype": "text/x-python",
   "name": "python",
   "nbconvert_exporter": "python",
   "pygments_lexer": "ipython3",
   "version": "3.12.8"
  }
 },
 "nbformat": 4,
 "nbformat_minor": 2
}
