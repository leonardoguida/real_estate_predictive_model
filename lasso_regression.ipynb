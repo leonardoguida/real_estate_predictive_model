{
 "cells": [
  {
   "cell_type": "code",
   "execution_count": 7,
   "id": "59aa7e9b",
   "metadata": {},
   "outputs": [],
   "source": [
    "import numpy as np\n",
    "import pandas as pd\n",
    "from sklearn.linear_model import LinearRegression, Ridge, Lasso, ElasticNet"
   ]
  },
  {
   "cell_type": "code",
   "execution_count": 8,
   "id": "09293b34",
   "metadata": {},
   "outputs": [],
   "source": [
    "df = pd.read_csv('data/df_with_pca.csv')"
   ]
  },
  {
   "cell_type": "code",
   "execution_count": 9,
   "id": "206e0eb2",
   "metadata": {},
   "outputs": [],
   "source": [
    "x_vars = [\"Indice di spopolamento\",\"Indice di occupazione\",\"Indice disoccupazione\",\"Tipo di località_Altri comuni non altrimenti classificati\",\"Tipo di località_Capoluogo senza specifici interessi turistici\",\"Tipo di località_Città d\\'Arte\",\"Tipo di località_Località collinari\",\"Tipo di località_Località lacuali\",\"Tipo di località_Località marine\",\"Tipo di località_Località montane\",\"Tipo di località_Località religiose\",\"Tipo di località_Località termali\", \"PC_Economica\",\"PC_Turistica_1\",\"PC_Turistica_2\", \"PC_Turistica_3\", \"PC_Turistica_4\", \"PC_Turistica_5\", \"PC_Turistica_6\", \"PC_Turistica_7\", \"PC_Turistica_8\", \"PC_Turistica_9\", \"PC_Turistica_10\", \"PC_Turistica_11\", \"PC_Turistica_12\", \"Macroarea_Isole\", \"Macroarea_Nord\", \"Macroarea_Sud\",\"Descrizione_Tipologia_di_Immobile_Abitazioni_di_tipo_economico\", \"Descrizione_Tipologia_di_Immobile_Abitazioni_signorili\", \"Descrizione_Tipologia_di_Immobile_Abitazioni_tipiche_dei_luoghi\",\"Descrizione_Tipologia_di_Immobile_Ville_e_Villini\"]"
   ]
  },
  {
   "cell_type": "code",
   "execution_count": 10,
   "id": "e4da97d8",
   "metadata": {},
   "outputs": [
    {
     "ename": "KeyError",
     "evalue": "\"['Macroarea_Isole', 'Macroarea_Nord', 'Macroarea_Sud', 'Descrizione_Tipologia_di_Immobile_Abitazioni_di_tipo_economico', 'Descrizione_Tipologia_di_Immobile_Abitazioni_signorili', 'Descrizione_Tipologia_di_Immobile_Abitazioni_tipiche_dei_luoghi', 'Descrizione_Tipologia_di_Immobile_Ville_e_Villini'] not in index\"",
     "output_type": "error",
     "traceback": [
      "\u001b[1;31m---------------------------------------------------------------------------\u001b[0m",
      "\u001b[1;31mKeyError\u001b[0m                                  Traceback (most recent call last)",
      "Cell \u001b[1;32mIn[10], line 1\u001b[0m\n\u001b[1;32m----> 1\u001b[0m x \u001b[38;5;241m=\u001b[39m \u001b[43mdf\u001b[49m\u001b[43m[\u001b[49m\u001b[43mx_vars\u001b[49m\u001b[43m]\u001b[49m\n\u001b[0;32m      2\u001b[0m y\u001b[38;5;241m=\u001b[39m df[\u001b[38;5;124m'\u001b[39m\u001b[38;5;124mCosto Minimo alla Vendita\u001b[39m\u001b[38;5;124m'\u001b[39m]\n",
      "File \u001b[1;32mc:\\Users\\silvi\\OneDrive\\Desktop\\Develhope2\\Project\\real_estate_predictive_model\\silvia.venv\\Lib\\site-packages\\pandas\\core\\frame.py:4108\u001b[0m, in \u001b[0;36mDataFrame.__getitem__\u001b[1;34m(self, key)\u001b[0m\n\u001b[0;32m   4106\u001b[0m     \u001b[38;5;28;01mif\u001b[39;00m is_iterator(key):\n\u001b[0;32m   4107\u001b[0m         key \u001b[38;5;241m=\u001b[39m \u001b[38;5;28mlist\u001b[39m(key)\n\u001b[1;32m-> 4108\u001b[0m     indexer \u001b[38;5;241m=\u001b[39m \u001b[38;5;28;43mself\u001b[39;49m\u001b[38;5;241;43m.\u001b[39;49m\u001b[43mcolumns\u001b[49m\u001b[38;5;241;43m.\u001b[39;49m\u001b[43m_get_indexer_strict\u001b[49m\u001b[43m(\u001b[49m\u001b[43mkey\u001b[49m\u001b[43m,\u001b[49m\u001b[43m \u001b[49m\u001b[38;5;124;43m\"\u001b[39;49m\u001b[38;5;124;43mcolumns\u001b[39;49m\u001b[38;5;124;43m\"\u001b[39;49m\u001b[43m)\u001b[49m[\u001b[38;5;241m1\u001b[39m]\n\u001b[0;32m   4110\u001b[0m \u001b[38;5;66;03m# take() does not accept boolean indexers\u001b[39;00m\n\u001b[0;32m   4111\u001b[0m \u001b[38;5;28;01mif\u001b[39;00m \u001b[38;5;28mgetattr\u001b[39m(indexer, \u001b[38;5;124m\"\u001b[39m\u001b[38;5;124mdtype\u001b[39m\u001b[38;5;124m\"\u001b[39m, \u001b[38;5;28;01mNone\u001b[39;00m) \u001b[38;5;241m==\u001b[39m \u001b[38;5;28mbool\u001b[39m:\n",
      "File \u001b[1;32mc:\\Users\\silvi\\OneDrive\\Desktop\\Develhope2\\Project\\real_estate_predictive_model\\silvia.venv\\Lib\\site-packages\\pandas\\core\\indexes\\base.py:6200\u001b[0m, in \u001b[0;36mIndex._get_indexer_strict\u001b[1;34m(self, key, axis_name)\u001b[0m\n\u001b[0;32m   6197\u001b[0m \u001b[38;5;28;01melse\u001b[39;00m:\n\u001b[0;32m   6198\u001b[0m     keyarr, indexer, new_indexer \u001b[38;5;241m=\u001b[39m \u001b[38;5;28mself\u001b[39m\u001b[38;5;241m.\u001b[39m_reindex_non_unique(keyarr)\n\u001b[1;32m-> 6200\u001b[0m \u001b[38;5;28;43mself\u001b[39;49m\u001b[38;5;241;43m.\u001b[39;49m\u001b[43m_raise_if_missing\u001b[49m\u001b[43m(\u001b[49m\u001b[43mkeyarr\u001b[49m\u001b[43m,\u001b[49m\u001b[43m \u001b[49m\u001b[43mindexer\u001b[49m\u001b[43m,\u001b[49m\u001b[43m \u001b[49m\u001b[43maxis_name\u001b[49m\u001b[43m)\u001b[49m\n\u001b[0;32m   6202\u001b[0m keyarr \u001b[38;5;241m=\u001b[39m \u001b[38;5;28mself\u001b[39m\u001b[38;5;241m.\u001b[39mtake(indexer)\n\u001b[0;32m   6203\u001b[0m \u001b[38;5;28;01mif\u001b[39;00m \u001b[38;5;28misinstance\u001b[39m(key, Index):\n\u001b[0;32m   6204\u001b[0m     \u001b[38;5;66;03m# GH 42790 - Preserve name from an Index\u001b[39;00m\n",
      "File \u001b[1;32mc:\\Users\\silvi\\OneDrive\\Desktop\\Develhope2\\Project\\real_estate_predictive_model\\silvia.venv\\Lib\\site-packages\\pandas\\core\\indexes\\base.py:6252\u001b[0m, in \u001b[0;36mIndex._raise_if_missing\u001b[1;34m(self, key, indexer, axis_name)\u001b[0m\n\u001b[0;32m   6249\u001b[0m     \u001b[38;5;28;01mraise\u001b[39;00m \u001b[38;5;167;01mKeyError\u001b[39;00m(\u001b[38;5;124mf\u001b[39m\u001b[38;5;124m\"\u001b[39m\u001b[38;5;124mNone of [\u001b[39m\u001b[38;5;132;01m{\u001b[39;00mkey\u001b[38;5;132;01m}\u001b[39;00m\u001b[38;5;124m] are in the [\u001b[39m\u001b[38;5;132;01m{\u001b[39;00maxis_name\u001b[38;5;132;01m}\u001b[39;00m\u001b[38;5;124m]\u001b[39m\u001b[38;5;124m\"\u001b[39m)\n\u001b[0;32m   6251\u001b[0m not_found \u001b[38;5;241m=\u001b[39m \u001b[38;5;28mlist\u001b[39m(ensure_index(key)[missing_mask\u001b[38;5;241m.\u001b[39mnonzero()[\u001b[38;5;241m0\u001b[39m]]\u001b[38;5;241m.\u001b[39munique())\n\u001b[1;32m-> 6252\u001b[0m \u001b[38;5;28;01mraise\u001b[39;00m \u001b[38;5;167;01mKeyError\u001b[39;00m(\u001b[38;5;124mf\u001b[39m\u001b[38;5;124m\"\u001b[39m\u001b[38;5;132;01m{\u001b[39;00mnot_found\u001b[38;5;132;01m}\u001b[39;00m\u001b[38;5;124m not in index\u001b[39m\u001b[38;5;124m\"\u001b[39m)\n",
      "\u001b[1;31mKeyError\u001b[0m: \"['Macroarea_Isole', 'Macroarea_Nord', 'Macroarea_Sud', 'Descrizione_Tipologia_di_Immobile_Abitazioni_di_tipo_economico', 'Descrizione_Tipologia_di_Immobile_Abitazioni_signorili', 'Descrizione_Tipologia_di_Immobile_Abitazioni_tipiche_dei_luoghi', 'Descrizione_Tipologia_di_Immobile_Ville_e_Villini'] not in index\""
     ]
    }
   ],
   "source": [
    "x = df[x_vars]\n",
    "y= df['Costo Minimo alla Vendita']"
   ]
  }
 ],
 "metadata": {
  "kernelspec": {
   "display_name": "silvia.venv",
   "language": "python",
   "name": "python3"
  },
  "language_info": {
   "codemirror_mode": {
    "name": "ipython",
    "version": 3
   },
   "file_extension": ".py",
   "mimetype": "text/x-python",
   "name": "python",
   "nbconvert_exporter": "python",
   "pygments_lexer": "ipython3",
   "version": "3.12.8"
  }
 },
 "nbformat": 4,
 "nbformat_minor": 5
}
