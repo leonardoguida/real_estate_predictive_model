{
 "cells": [
  {
   "cell_type": "code",
   "execution_count": 2,
   "metadata": {},
   "outputs": [],
   "source": [
    "import pandas as pd\n",
    "import numpy as np\n",
    "import matplotlib.pyplot as plt\n",
    "import seaborn as sn\n"
   ]
  },
  {
   "cell_type": "code",
   "execution_count": 8,
   "metadata": {},
   "outputs": [],
   "source": [
    "aeroporti = pd.read_csv(\"file_ingestion/aeroporti.csv\")\n",
    "capacità_delle_accomodation = pd.read_csv(\"file_ingestion/capacità_delle_accomodation.csv\")\n",
    "classificazione_località = pd.read_csv(\"file_ingestion/classificazione_località.csv\")\n",
    "fasce_di_reddito = pd.read_csv(\"file_ingestion/fasce_di_reddito.csv\")\n",
    "lat_long_comuni = pd.read_csv(\"file_ingestion/lati_long_comuni.csv\")\n",
    "quot_immobiliari = pd.read_csv(\"file_ingestion/quot_immobiliari.csv\")\n",
    "reddito_procapite = pd.read_csv(\"file_ingestion/reddito_procapite.csv\")\n",
    "scuole = pd.read_csv(\"file_ingestion/schoolmap_italia.csv\")\n",
    "spopolamento_comuni = pd.read_csv(\"file_ingestion/spopolamento_comuni_2023.csv\")\n",
    "stazioni = pd.read_csv(\"file_ingestion/stazioni_italiane.csv\")\n",
    "tasso_disoccupazione = pd.read_csv(\"file_ingestion/tasso_di_disoccupazione.csv\")\n",
    "tasso_occupazione = pd.read_csv(\"file_ingestion/tasso_di_occupazione.csv\")\n",
    "università = pd.read_csv(\"file_ingestion/unimap_italia.csv\")\n",
    "zone_immobiliari = pd.read_csv(\"file_ingestion/zone_immobiliari.csv\")\n"
   ]
  },
  {
   "cell_type": "code",
   "execution_count": 24,
   "metadata": {},
   "outputs": [
    {
     "name": "stdout",
     "output_type": "stream",
     "text": [
      "<class 'pandas.core.frame.DataFrame'>\n",
      "RangeIndex: 44 entries, 0 to 43\n",
      "Data columns (total 6 columns):\n",
      " #   Column            Non-Null Count  Dtype  \n",
      "---  ------            --------------  -----  \n",
      " 0   Aeroporto         44 non-null     object \n",
      " 1   Nome Commerciale  44 non-null     object \n",
      " 2   Comune            44 non-null     object \n",
      " 3   Tipo Utilizzo     44 non-null     object \n",
      " 4   LAT               44 non-null     float64\n",
      " 5   LON               44 non-null     float64\n",
      "dtypes: float64(2), object(4)\n",
      "memory usage: 2.2+ KB\n"
     ]
    }
   ],
   "source": [
    "aeroporti.info()\n"
   ]
  },
  {
   "cell_type": "code",
   "execution_count": 25,
   "metadata": {},
   "outputs": [
    {
     "name": "stdout",
     "output_type": "stream",
     "text": [
      "<class 'pandas.core.frame.DataFrame'>\n",
      "RangeIndex: 7905 entries, 0 to 7904\n",
      "Data columns (total 54 columns):\n",
      " #   Column                                                         Non-Null Count  Dtype  \n",
      "---  ------                                                         --------------  -----  \n",
      " 0   Regioni                                                        7904 non-null   object \n",
      " 1   Codice Regione                                                 7904 non-null   float64\n",
      " 2   Province                                                       7904 non-null   object \n",
      " 3   Codice Province                                                7904 non-null   float64\n",
      " 4   Comuni                                                         7903 non-null   object \n",
      " 5   Codice comuni                                                  7904 non-null   float64\n",
      " 6   Esercizi a 5 stelle                                            7904 non-null   object \n",
      " 7   Letti                                                          7904 non-null   object \n",
      " 8   Camere                                                         7904 non-null   object \n",
      " 9   Bagni                                                          7904 non-null   object \n",
      " 10  Esercizi a 4 stelle                                            7904 non-null   object \n",
      " 11  Letti.1                                                        7904 non-null   object \n",
      " 12  Camere.1                                                       7904 non-null   object \n",
      " 13  Bagni.1                                                        7904 non-null   object \n",
      " 14  Esercizi a 3 stelle                                            7904 non-null   object \n",
      " 15  Letti.2                                                        7904 non-null   object \n",
      " 16  Camere.2                                                       7904 non-null   object \n",
      " 17  Bagni.2                                                        7904 non-null   object \n",
      " 18  Esercizi a 2 stelle                                            7904 non-null   object \n",
      " 19  Letti.3                                                        7904 non-null   object \n",
      " 20  Camere.3                                                       7904 non-null   object \n",
      " 21  Bagni.3                                                        7904 non-null   object \n",
      " 22  Esercizi a 1 stella                                            7904 non-null   object \n",
      " 23  Letti.4                                                        7904 non-null   object \n",
      " 24  Camere.4                                                       7904 non-null   object \n",
      " 25  Bagni.4                                                        7904 non-null   object \n",
      " 26  Esercizi turistico-alberghiere                                 7904 non-null   object \n",
      " 27  Letti.5                                                        7904 non-null   object \n",
      " 28  Camere.5                                                       7904 non-null   object \n",
      " 29  Bagni.5                                                        7904 non-null   object \n",
      " 30  Esercizi alberghieri                                           7904 non-null   object \n",
      " 31  Letti.6                                                        7904 non-null   object \n",
      " 32  Camere.6                                                       7904 non-null   object \n",
      " 33  Bagni.6                                                        7904 non-null   object \n",
      " 34  Numero campeggi e villaggi turistici                           7904 non-null   object \n",
      " 35  Letti.7                                                        7904 non-null   object \n",
      " 36  Numero di alloggi in affitto gestiti in forma imprenditoriale  7904 non-null   object \n",
      " 37  Letti.8                                                        7904 non-null   object \n",
      " 38  Numero di agriturismi                                          7904 non-null   object \n",
      " 39  Letti.9                                                        7904 non-null   object \n",
      " 40  Numero di ostelli per la gioventù                              7904 non-null   object \n",
      " 41  Letti.10                                                       7904 non-null   object \n",
      " 42  Numero di case per ferie                                       7904 non-null   object \n",
      " 43  Letti.11                                                       7904 non-null   object \n",
      " 44  Numero di rifugi alpini                                        7904 non-null   object \n",
      " 45  Letti.12                                                       7904 non-null   object \n",
      " 46  Numero di altri esercizi ricettivi                             7904 non-null   object \n",
      " 47  Letti.13                                                       7904 non-null   object \n",
      " 48  Numero di b&b                                                  7904 non-null   object \n",
      " 49  Letti.14                                                       7904 non-null   object \n",
      " 50  Numero di esercizi extra-alberghieri                           7904 non-null   object \n",
      " 51  Letti.15                                                       7904 non-null   object \n",
      " 52  Numero                                                         7905 non-null   object \n",
      " 53  Letti.16                                                       7905 non-null   object \n",
      "dtypes: float64(3), object(51)\n",
      "memory usage: 3.3+ MB\n"
     ]
    }
   ],
   "source": [
    "capacità_delle_accomodation.info()"
   ]
  },
  {
   "cell_type": "code",
   "execution_count": 26,
   "metadata": {},
   "outputs": [
    {
     "name": "stdout",
     "output_type": "stream",
     "text": [
      "<class 'pandas.core.frame.DataFrame'>\n",
      "RangeIndex: 8055 entries, 0 to 8054\n",
      "Data columns (total 6 columns):\n",
      " #   Column                         Non-Null Count  Dtype \n",
      "---  ------                         --------------  ----- \n",
      " 0   Regioni                        8055 non-null   object\n",
      " 1   Province                       8055 non-null   object\n",
      " 2   Comuni                         8054 non-null   object\n",
      " 3   Circoscrizione Turistica       8055 non-null   object\n",
      " 4   Cod. Circoscrizione Turistica  8055 non-null   int64 \n",
      " 5   Tipo di località               8055 non-null   object\n",
      "dtypes: int64(1), object(5)\n",
      "memory usage: 377.7+ KB\n"
     ]
    }
   ],
   "source": [
    "classificazione_località.info()"
   ]
  },
  {
   "cell_type": "code",
   "execution_count": 27,
   "metadata": {},
   "outputs": [
    {
     "name": "stdout",
     "output_type": "stream",
     "text": [
      "<class 'pandas.core.frame.DataFrame'>\n",
      "RangeIndex: 7900 entries, 0 to 7899\n",
      "Data columns (total 26 columns):\n",
      " #   Column                                                                                                          Non-Null Count  Dtype  \n",
      "---  ------                                                                                                          --------------  -----  \n",
      " 0   Codice catastale                                                                                                7900 non-null   object \n",
      " 1   Codice Istat Comune                                                                                             7900 non-null   int64  \n",
      " 2   Comune                                                                                                          7900 non-null   object \n",
      " 3   Regione                                                                                                         7900 non-null   object \n",
      " 4   Codice Istat Regione                                                                                            7900 non-null   int64  \n",
      " 5   Reddito da fabbricati - Frequenza                                                                               7900 non-null   int64  \n",
      " 6   Reddito da lavoro dipendente e assimilati - Frequenza                                                           7900 non-null   int64  \n",
      " 7   Reddito da pensione - Frequenza                                                                                 7900 non-null   int64  \n",
      " 8   Reddito da lavoro autonomo (comprensivo dei valori nulli) - Frequenza                                           6660 non-null   float64\n",
      " 9   Reddito di spettanza dell'imprenditore in contabilita' ordinaria  (comprensivo dei valori nulli) - Frequenza    5633 non-null   float64\n",
      " 10  Reddito di spettanza dell'imprenditore in contabilita' semplificata (comprensivo dei valori nulli) - Frequenza  7709 non-null   float64\n",
      " 11  Reddito da partecipazione  (comprensivo dei valori nulli) - Frequenza                                           7714 non-null   float64\n",
      " 12  Reddito imponibile - Frequenza                                                                                  7900 non-null   int64  \n",
      " 13  Imposta netta - Frequenza                                                                                       7900 non-null   int64  \n",
      " 14  Trattamento spettante - Frequenza                                                                               7876 non-null   float64\n",
      " 15  Reddito imponibile addizionale - Frequenza                                                                      7900 non-null   int64  \n",
      " 16  Addizionale regionale dovuta - Frequenza                                                                        7900 non-null   int64  \n",
      " 17  Addizionale comunale dovuta - Frequenza                                                                         7797 non-null   float64\n",
      " 18  Reddito complessivo minore o uguale a zero euro - Frequenza                                                     6530 non-null   float64\n",
      " 19  Reddito complessivo da 0 a 10000 euro - Frequenza                                                               7900 non-null   int64  \n",
      " 20  Reddito complessivo da 10000 a 15000 euro - Frequenza                                                           7893 non-null   float64\n",
      " 21  Reddito complessivo da 15000 a 26000 euro - Frequenza                                                           7900 non-null   int64  \n",
      " 22  Reddito complessivo da 26000 a 55000 euro - Frequenza                                                           7896 non-null   float64\n",
      " 23  Reddito complessivo da 55000 a 75000 euro - Frequenza                                                           7135 non-null   float64\n",
      " 24  Reddito complessivo da 75000 a 120000 euro - Frequenza                                                          6851 non-null   float64\n",
      " 25  Reddito complessivo oltre 120000 euro - Frequenza                                                               6191 non-null   float64\n",
      "dtypes: float64(12), int64(11), object(3)\n",
      "memory usage: 1.6+ MB\n"
     ]
    }
   ],
   "source": [
    "fasce_di_reddito.info()"
   ]
  },
  {
   "cell_type": "code",
   "execution_count": 28,
   "metadata": {},
   "outputs": [
    {
     "name": "stdout",
     "output_type": "stream",
     "text": [
      "<class 'pandas.core.frame.DataFrame'>\n",
      "RangeIndex: 8104 entries, 0 to 8103\n",
      "Data columns (total 7 columns):\n",
      " #   Column          Non-Null Count  Dtype  \n",
      "---  ------          --------------  -----  \n",
      " 0   Latitude        8104 non-null   int64  \n",
      " 1   Longitude       8104 non-null   int64  \n",
      " 2   Surface         8104 non-null   int64  \n",
      " 3   Superficie km2  8104 non-null   float64\n",
      " 4   Population      8104 non-null   int64  \n",
      " 5   Common          8103 non-null   object \n",
      " 6   Province        8012 non-null   object \n",
      "dtypes: float64(1), int64(4), object(2)\n",
      "memory usage: 443.3+ KB\n"
     ]
    }
   ],
   "source": [
    "lat_long_comuni.info()"
   ]
  },
  {
   "cell_type": "code",
   "execution_count": 29,
   "metadata": {},
   "outputs": [
    {
     "name": "stdout",
     "output_type": "stream",
     "text": [
      "<class 'pandas.core.frame.DataFrame'>\n",
      "MultiIndex: 160989 entries, ('NORD-OVEST;PIEMONTE;AL;1006003;A2AA;A182;ALESSANDRIA;B;B1;AL00000001;20;Abitazioni civili;NORMALE;P;610;900;L;4', '5;6') to ('ISOLE;SARDEGNA;SS;20090090;V3DT;M301;PADRU;B;B1;SS00000858;10;Laboratori;NORMALE;P;330;380;L;1', '7;1')\n",
      "Data columns (total 1 columns):\n",
      " #   Column                                                                                                                                                                                                          Non-Null Count   Dtype \n",
      "---  ------                                                                                                                                                                                                          --------------   ----- \n",
      " 0   Area_territoriale;Regione;Prov;Comune_ISTAT;Comune_cat;Comune_amm;Comune_descrizione;Fascia;Zona;LinkZona;Cod_Tip;Descr_Tipologia;Stato;Stato_prev;Compr_min;Compr_max;Sup_NL_compr;Loc_min;Loc_max;Sup_NL_loc  108201 non-null  object\n",
      "dtypes: object(1)\n",
      "memory usage: 7.4+ MB\n"
     ]
    }
   ],
   "source": [
    "quot_immobiliari.info()"
   ]
  },
  {
   "cell_type": "code",
   "execution_count": 30,
   "metadata": {},
   "outputs": [
    {
     "name": "stdout",
     "output_type": "stream",
     "text": [
      "<class 'pandas.core.frame.DataFrame'>\n",
      "RangeIndex: 7904 entries, 0 to 7903\n",
      "Data columns (total 7 columns):\n",
      " #   Column                 Non-Null Count  Dtype \n",
      "---  ------                 --------------  ----- \n",
      " 0   Ripartizione           7904 non-null   object\n",
      " 1   Codice regione         7904 non-null   int64 \n",
      " 2   Denominazione regione  7904 non-null   object\n",
      " 3   Provincia              7904 non-null   object\n",
      " 4   Capoluogo              7904 non-null   int64 \n",
      " 5   Denominazione comune   7903 non-null   object\n",
      " 6   2023                   7904 non-null   object\n",
      "dtypes: int64(2), object(5)\n",
      "memory usage: 432.4+ KB\n"
     ]
    }
   ],
   "source": [
    "reddito_procapite.info()"
   ]
  },
  {
   "cell_type": "code",
   "execution_count": 31,
   "metadata": {},
   "outputs": [
    {
     "name": "stdout",
     "output_type": "stream",
     "text": [
      "<class 'pandas.core.frame.DataFrame'>\n",
      "RangeIndex: 3419 entries, 0 to 3418\n",
      "Data columns (total 5 columns):\n",
      " #   Column       Non-Null Count  Dtype \n",
      "---  ------       --------------  ----- \n",
      " 0   Comune       3419 non-null   object\n",
      " 1   Provincia    3419 non-null   object\n",
      " 2   Istituto     2562 non-null   object\n",
      " 3   Latitudine   3419 non-null   object\n",
      " 4   Longitudine  3419 non-null   object\n",
      "dtypes: object(5)\n",
      "memory usage: 133.7+ KB\n"
     ]
    }
   ],
   "source": [
    "scuole.info()"
   ]
  },
  {
   "cell_type": "code",
   "execution_count": 32,
   "metadata": {},
   "outputs": [
    {
     "name": "stdout",
     "output_type": "stream",
     "text": [
      "<class 'pandas.core.frame.DataFrame'>\n",
      "RangeIndex: 7904 entries, 0 to 7903\n",
      "Data columns (total 5 columns):\n",
      " #   Column                  Non-Null Count  Dtype \n",
      "---  ------                  --------------  ----- \n",
      " 0   Regione                 7904 non-null   object\n",
      " 1   Provincia               7904 non-null   object\n",
      " 2   Comune                  7903 non-null   object\n",
      " 3   Codice comune Istat     7904 non-null   int64 \n",
      " 4   Indice di spopolamento  7904 non-null   object\n",
      "dtypes: int64(1), object(4)\n",
      "memory usage: 308.9+ KB\n"
     ]
    }
   ],
   "source": [
    "spopolamento_comuni.info()"
   ]
  },
  {
   "cell_type": "code",
   "execution_count": 33,
   "metadata": {},
   "outputs": [
    {
     "name": "stdout",
     "output_type": "stream",
     "text": [
      "<class 'pandas.core.frame.DataFrame'>\n",
      "RangeIndex: 3047 entries, 0 to 3046\n",
      "Data columns (total 6 columns):\n",
      " #   Column      Non-Null Count  Dtype \n",
      "---  ------      --------------  ----- \n",
      " 0   code        3047 non-null   object\n",
      " 1   region      3047 non-null   object\n",
      " 2   long_name   3044 non-null   object\n",
      " 3   short_name  2583 non-null   object\n",
      " 4   latitude    2584 non-null   object\n",
      " 5   longitude   2584 non-null   object\n",
      "dtypes: object(6)\n",
      "memory usage: 143.0+ KB\n"
     ]
    }
   ],
   "source": [
    "stazioni.info()"
   ]
  },
  {
   "cell_type": "code",
   "execution_count": 34,
   "metadata": {},
   "outputs": [
    {
     "name": "stdout",
     "output_type": "stream",
     "text": [
      "<class 'pandas.core.frame.DataFrame'>\n",
      "RangeIndex: 7904 entries, 0 to 7903\n",
      "Data columns (total 6 columns):\n",
      " #   Column                 Non-Null Count  Dtype \n",
      "---  ------                 --------------  ----- \n",
      " 0   Denominazione regione  7904 non-null   object\n",
      " 1   Provincia              7904 non-null   object\n",
      " 2   Capoluogo              7904 non-null   int64 \n",
      " 3   Denominazione comune   7903 non-null   object\n",
      " 4   Codice comune Istat    7904 non-null   int64 \n",
      " 5   Indice disoccupazione  7900 non-null   object\n",
      "dtypes: int64(2), object(4)\n",
      "memory usage: 370.6+ KB\n"
     ]
    }
   ],
   "source": [
    "tasso_disoccupazione.info()"
   ]
  },
  {
   "cell_type": "code",
   "execution_count": 35,
   "metadata": {},
   "outputs": [
    {
     "name": "stdout",
     "output_type": "stream",
     "text": [
      "<class 'pandas.core.frame.DataFrame'>\n",
      "RangeIndex: 7904 entries, 0 to 7903\n",
      "Data columns (total 6 columns):\n",
      " #   Column                 Non-Null Count  Dtype \n",
      "---  ------                 --------------  ----- \n",
      " 0   Denominazione regione  7904 non-null   object\n",
      " 1   Provincia              7904 non-null   object\n",
      " 2   Capoluogo              7904 non-null   int64 \n",
      " 3   Denominazione comune   7903 non-null   object\n",
      " 4   Codice comune Istat    7904 non-null   int64 \n",
      " 5   Indice di occupazione  7904 non-null   object\n",
      "dtypes: int64(2), object(4)\n",
      "memory usage: 370.6+ KB\n"
     ]
    }
   ],
   "source": [
    "tasso_occupazione.info()"
   ]
  },
  {
   "cell_type": "code",
   "execution_count": 36,
   "metadata": {},
   "outputs": [
    {
     "name": "stdout",
     "output_type": "stream",
     "text": [
      "<class 'pandas.core.frame.DataFrame'>\n",
      "RangeIndex: 232 entries, 0 to 231\n",
      "Data columns (total 6 columns):\n",
      " #   Column       Non-Null Count  Dtype \n",
      "---  ------       --------------  ----- \n",
      " 0   Comune       232 non-null    object\n",
      " 1   Provincia    232 non-null    object\n",
      " 2   Regione      232 non-null    object\n",
      " 3   Nome         224 non-null    object\n",
      " 4   Longitudine  232 non-null    object\n",
      " 5   Latitudine   232 non-null    object\n",
      "dtypes: object(6)\n",
      "memory usage: 11.0+ KB\n"
     ]
    }
   ],
   "source": [
    "università.info()"
   ]
  },
  {
   "cell_type": "code",
   "execution_count": 37,
   "metadata": {},
   "outputs": [
    {
     "name": "stdout",
     "output_type": "stream",
     "text": [
      "<class 'pandas.core.frame.DataFrame'>\n",
      "RangeIndex: 27244 entries, 0 to 27243\n",
      "Data columns (total 12 columns):\n",
      " #   Column                                                                                            Non-Null Count  Dtype \n",
      "---  ------                                                                                            --------------  ----- \n",
      " 0   Quotazioni Immobiliari : Informazioni di Zona OMI - Semestre 2023/2 - elaborazione del 14-MAR-24  27244 non-null  object\n",
      " 1   Unnamed: 1                                                                                        27244 non-null  object\n",
      " 2   Unnamed: 2                                                                                        26738 non-null  object\n",
      " 3   Unnamed: 3                                                                                        27242 non-null  object\n",
      " 4   Unnamed: 4                                                                                        27244 non-null  object\n",
      " 5   Unnamed: 5                                                                                        27244 non-null  object\n",
      " 6   Unnamed: 6                                                                                        27244 non-null  object\n",
      " 7   Unnamed: 7                                                                                        27244 non-null  object\n",
      " 8   Unnamed: 8                                                                                        27244 non-null  object\n",
      " 9   Unnamed: 9                                                                                        27244 non-null  object\n",
      " 10  Unnamed: 10                                                                                       27244 non-null  object\n",
      " 11  Unnamed: 11                                                                                       27244 non-null  object\n",
      "dtypes: object(12)\n",
      "memory usage: 2.5+ MB\n"
     ]
    }
   ],
   "source": [
    "zone_immobiliari.info()"
   ]
  }
 ],
 "metadata": {
  "kernelspec": {
   "display_name": "Python 3",
   "language": "python",
   "name": "python3"
  },
  "language_info": {
   "codemirror_mode": {
    "name": "ipython",
    "version": 3
   },
   "file_extension": ".py",
   "mimetype": "text/x-python",
   "name": "python",
   "nbconvert_exporter": "python",
   "pygments_lexer": "ipython3",
   "version": "3.12.8"
  }
 },
 "nbformat": 4,
 "nbformat_minor": 2
}
