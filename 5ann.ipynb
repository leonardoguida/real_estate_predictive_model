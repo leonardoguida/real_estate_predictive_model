{
 "cells": [
  {
   "cell_type": "code",
   "execution_count": 1,
   "id": "85a0b404",
   "metadata": {},
   "outputs": [],
   "source": [
    "import pandas as pd\n",
    "from sklearn.model_selection import train_test_split\n",
    "from sklearn.preprocessing import StandardScaler, OneHotEncoder\n",
    "from sklearn.impute import SimpleImputer\n",
    "from sklearn.compose import ColumnTransformer\n",
    "from sklearn.pipeline import Pipeline\n",
    "import tensorflow as tf\n",
    "from tensorflow.keras import Sequential\n",
    "from tensorflow.keras.layers import Dense\n",
    "from tensorflow.keras.callbacks import EarlyStopping\n",
    "import matplotlib.pyplot as plt\n",
    "import keras_tuner as kt\n",
    "from tensorflow.keras.optimizers import Adam\n",
    "from sklearn.metrics import mean_absolute_error, mean_squared_error, r2_score\n",
    "import numpy as np\n"
   ]
  },
  {
   "cell_type": "code",
   "execution_count": 2,
   "id": "faf89bad",
   "metadata": {},
   "outputs": [],
   "source": [
    "df = pd.read_csv('data/df_grouped.csv')\n"
   ]
  },
  {
   "cell_type": "code",
   "execution_count": 3,
   "id": "fd807ac0",
   "metadata": {},
   "outputs": [
    {
     "data": {
      "text/plain": [
       "Index(['Indice di spopolamento', 'Indice di occupazione',\n",
       "       'Indice disoccupazione',\n",
       "       'Tipo di località_Altri comuni non altrimenti classificati',\n",
       "       'Tipo di località_Capoluogo senza specifici interessi turistici',\n",
       "       'Tipo di località_Città d'Arte', 'Tipo di località_Località collinari',\n",
       "       'Tipo di località_Località lacuali', 'Tipo di località_Località marine',\n",
       "       'Tipo di località_Località montane',\n",
       "       'Tipo di località_Località religiose',\n",
       "       'Tipo di località_Località termali', 'PC_Economica', 'PC_Metropoli',\n",
       "       'PC_Diversificata', 'PC_Qualita_Alta', 'PC_Business', 'PC_Balneare',\n",
       "       'PC_Montano', 'PC_Costiero_Minore', 'PC_Balneare_Massa',\n",
       "       'PC_Religioso_Culturale', 'PC_Lusso_Termale', 'PC_Enogastronomico',\n",
       "       'PC_Lacustre_Transito', 'Macroarea_Isole', 'Macroarea_Nord',\n",
       "       'Macroarea_Sud',\n",
       "       'Descrizione_Tipologia_di_Immobile_Abitazioni_di_tipo_economico',\n",
       "       'Descrizione_Tipologia_di_Immobile_Abitazioni_signorili',\n",
       "       'Descrizione_Tipologia_di_Immobile_Abitazioni_tipiche_dei_luoghi',\n",
       "       'Descrizione_Tipologia_di_Immobile_Ville_e_Villini',\n",
       "       'Media Costo alla Vendita'],\n",
       "      dtype='object')"
      ]
     },
     "execution_count": 3,
     "metadata": {},
     "output_type": "execute_result"
    }
   ],
   "source": [
    "df.columns"
   ]
  },
  {
   "cell_type": "code",
   "execution_count": 4,
   "id": "f62d4a94",
   "metadata": {},
   "outputs": [
    {
     "name": "stdout",
     "output_type": "stream",
     "text": [
      "<class 'pandas.core.frame.DataFrame'>\n",
      "RangeIndex: 8182 entries, 0 to 8181\n",
      "Data columns (total 33 columns):\n",
      " #   Column                                                           Non-Null Count  Dtype  \n",
      "---  ------                                                           --------------  -----  \n",
      " 0   Indice di spopolamento                                           8181 non-null   float64\n",
      " 1   Indice di occupazione                                            8181 non-null   float64\n",
      " 2   Indice disoccupazione                                            8179 non-null   float64\n",
      " 3   Tipo di località_Altri comuni non altrimenti classificati        8182 non-null   bool   \n",
      " 4   Tipo di località_Capoluogo senza specifici interessi turistici   8182 non-null   bool   \n",
      " 5   Tipo di località_Città d'Arte                                    8182 non-null   bool   \n",
      " 6   Tipo di località_Località collinari                              8182 non-null   bool   \n",
      " 7   Tipo di località_Località lacuali                                8182 non-null   bool   \n",
      " 8   Tipo di località_Località marine                                 8182 non-null   bool   \n",
      " 9   Tipo di località_Località montane                                8182 non-null   bool   \n",
      " 10  Tipo di località_Località religiose                              8182 non-null   bool   \n",
      " 11  Tipo di località_Località termali                                8182 non-null   bool   \n",
      " 12  PC_Economica                                                     8182 non-null   float64\n",
      " 13  PC_Metropoli                                                     8182 non-null   float64\n",
      " 14  PC_Diversificata                                                 8182 non-null   float64\n",
      " 15  PC_Qualita_Alta                                                  8182 non-null   float64\n",
      " 16  PC_Business                                                      8182 non-null   float64\n",
      " 17  PC_Balneare                                                      8182 non-null   float64\n",
      " 18  PC_Montano                                                       8182 non-null   float64\n",
      " 19  PC_Costiero_Minore                                               8182 non-null   float64\n",
      " 20  PC_Balneare_Massa                                                8182 non-null   float64\n",
      " 21  PC_Religioso_Culturale                                           8182 non-null   float64\n",
      " 22  PC_Lusso_Termale                                                 8182 non-null   float64\n",
      " 23  PC_Enogastronomico                                               8182 non-null   float64\n",
      " 24  PC_Lacustre_Transito                                             8182 non-null   float64\n",
      " 25  Macroarea_Isole                                                  8182 non-null   bool   \n",
      " 26  Macroarea_Nord                                                   8182 non-null   bool   \n",
      " 27  Macroarea_Sud                                                    8182 non-null   bool   \n",
      " 28  Descrizione_Tipologia_di_Immobile_Abitazioni_di_tipo_economico   8182 non-null   bool   \n",
      " 29  Descrizione_Tipologia_di_Immobile_Abitazioni_signorili           8182 non-null   bool   \n",
      " 30  Descrizione_Tipologia_di_Immobile_Abitazioni_tipiche_dei_luoghi  8182 non-null   bool   \n",
      " 31  Descrizione_Tipologia_di_Immobile_Ville_e_Villini                8182 non-null   bool   \n",
      " 32  Media Costo alla Vendita                                         8182 non-null   float64\n",
      "dtypes: bool(16), float64(17)\n",
      "memory usage: 1.2 MB\n"
     ]
    }
   ],
   "source": [
    "df.info()"
   ]
  },
  {
   "cell_type": "code",
   "execution_count": 5,
   "id": "35172e5d",
   "metadata": {},
   "outputs": [],
   "source": [
    "# Define the preprocessing steps\n",
    "x_vars = [\"Indice di spopolamento\",\n",
    "          \"Indice di occupazione\",\n",
    "          \"Indice disoccupazione\",\n",
    "          \"Tipo di località_Altri comuni non altrimenti classificati\",\n",
    "          \"Tipo di località_Capoluogo senza specifici interessi turistici\",\n",
    "          \"Tipo di località_Città d\\'Arte\",\"Tipo di località_Località collinari\",\n",
    "          \"Tipo di località_Località lacuali\",\"Tipo di località_Località marine\",\n",
    "          \"Tipo di località_Località montane\",\"Tipo di località_Località religiose\",\n",
    "          \"Tipo di località_Località termali\", \n",
    "          \"PC_Economica\",\n",
    "          \"PC_Metropoli\",\n",
    "          \"PC_Diversificata\",\n",
    "          \"PC_Qualita_Alta\",\n",
    "          \"PC_Business\",\n",
    "          \"PC_Balneare\",\n",
    "          \"PC_Montano\",\n",
    "          \"PC_Costiero_Minore\",\n",
    "          \"PC_Balneare_Massa\",\n",
    "          \"PC_Religioso_Culturale\",\n",
    "          \"PC_Lusso_Termale\",\n",
    "          \"PC_Enogastronomico\", \n",
    "          \"PC_Lacustre_Transito\", \n",
    "          \"Macroarea_Isole\", \"Macroarea_Nord\", \"Macroarea_Sud\",\n",
    "          \"Descrizione_Tipologia_di_Immobile_Abitazioni_di_tipo_economico\", \n",
    "          \"Descrizione_Tipologia_di_Immobile_Abitazioni_signorili\", \n",
    "          \"Descrizione_Tipologia_di_Immobile_Abitazioni_tipiche_dei_luoghi\",\n",
    "          \"Descrizione_Tipologia_di_Immobile_Ville_e_Villini\"]\n",
    "\n",
    "X = df[x_vars]\n",
    "y = df[\"Media Costo alla Vendita\"]\n"
   ]
  },
  {
   "cell_type": "code",
   "execution_count": 6,
   "id": "1449a66e",
   "metadata": {},
   "outputs": [],
   "source": [
    "X_train, X_test, y_train, y_test = train_test_split(X, y, test_size=0.2, random_state=1)"
   ]
  },
  {
   "cell_type": "code",
   "execution_count": 7,
   "id": "41066730",
   "metadata": {},
   "outputs": [
    {
     "name": "stdout",
     "output_type": "stream",
     "text": [
      "Righe rimosse: 1\n",
      "Nuove dimensioni: X_train (6544, 32), y_train (6544,)\n"
     ]
    }
   ],
   "source": [
    "# Prima di fare la normalizzazione, rimuovi la riga con NaN\n",
    "mask = ~X_train.isnull().any(axis=1)\n",
    "X_train_clean = X_train[mask]\n",
    "y_train_clean = y_train[mask]\n",
    "\n",
    "print(f\"Righe rimosse: {len(X_train) - len(X_train_clean)}\")\n",
    "print(f\"Nuove dimensioni: X_train {X_train_clean.shape}, y_train {y_train_clean.shape}\")"
   ]
  },
  {
   "cell_type": "code",
   "execution_count": 8,
   "id": "9fcc9837",
   "metadata": {},
   "outputs": [
    {
     "name": "stdout",
     "output_type": "stream",
     "text": [
      "Range y_train: 0.0 to 13450.0\n",
      "Range y_test: 0.0 to 11600.0\n",
      "Range X_train: -252.0 to 70.3\n"
     ]
    }
   ],
   "source": [
    "print(\"Range y_train:\", y_train.min(), \"to\", y_train.max())\n",
    "print(\"Range y_test:\", y_test.min(), \"to\", y_test.max())\n",
    "print(\"Range X_train:\", X_train.min().min(), \"to\", X_train.max().max())"
   ]
  },
  {
   "cell_type": "code",
   "execution_count": 9,
   "id": "81610ae8",
   "metadata": {},
   "outputs": [
    {
     "name": "stdout",
     "output_type": "stream",
     "text": [
      "X_train_scaled range: -18.815057972840137 to 80.88881257627656\n",
      "y_train_scaled range: -1.4939893422192638 to 17.757595232106112\n"
     ]
    }
   ],
   "source": [
    "# Normalizza X (features)\n",
    "scaler_X = StandardScaler()\n",
    "X_train_scaled = scaler_X.fit_transform(X_train_clean)\n",
    "X_test_scaled = scaler_X.transform(X_test)\n",
    "\n",
    "# Normalizza y (target)\n",
    "scaler_y = StandardScaler()\n",
    "y_train_scaled = scaler_y.fit_transform(y_train_clean.values.reshape(-1, 1)).flatten()\n",
    "y_test_scaled = scaler_y.transform(y_test.values.reshape(-1, 1)).flatten()\n",
    "\n",
    "# Verifica che ora sia tutto OK\n",
    "print(\"X_train_scaled range:\", X_train_scaled.min(), \"to\", X_train_scaled.max())\n",
    "print(\"y_train_scaled range:\", y_train_scaled.min(), \"to\", y_train_scaled.max())"
   ]
  },
  {
   "cell_type": "code",
   "execution_count": 10,
   "id": "52434832",
   "metadata": {},
   "outputs": [
    {
     "name": "stdout",
     "output_type": "stream",
     "text": [
      "NaN in X_train: 1\n",
      "NaN in y_train: 0\n",
      "Inf in X_train: 0\n"
     ]
    }
   ],
   "source": [
    "print(\"NaN in X_train:\", X_train.isnull().sum().sum())\n",
    "print(\"NaN in y_train:\", y_train.isnull().sum())\n",
    "print(\"Inf in X_train:\", np.isinf(X_train).sum().sum())"
   ]
  },
  {
   "cell_type": "code",
   "execution_count": 11,
   "id": "bd666a99",
   "metadata": {},
   "outputs": [
    {
     "name": "stdout",
     "output_type": "stream",
     "text": [
      "X_train_scaled range: -18.815057972840137 to 80.88881257627656\n",
      "y_train_scaled range: -1.4939893422192638 to 17.757595232106112\n"
     ]
    }
   ],
   "source": [
    "# Verifica che ora siano normalizzati\n",
    "print(\"X_train_scaled range:\", X_train_scaled.min(), \"to\", X_train_scaled.max())\n",
    "print(\"y_train_scaled range:\", y_train_scaled.min(), \"to\", y_train_scaled.max())"
   ]
  },
  {
   "cell_type": "code",
   "execution_count": 12,
   "id": "7a6eeb68",
   "metadata": {},
   "outputs": [
    {
     "name": "stdout",
     "output_type": "stream",
     "text": [
      "       Indice di spopolamento  Indice di occupazione  Indice disoccupazione  \\\n",
      "count             6544.000000            6544.000000            6544.000000   \n",
      "mean                -1.642772              44.962913              12.490338   \n",
      "std                 13.307233               7.493671               6.440995   \n",
      "min               -252.000000              21.700000               0.970000   \n",
      "25%                 -7.100000              38.975000               7.560000   \n",
      "50%                 -0.900000              45.700000              10.385000   \n",
      "75%                  4.700000              50.725000              16.770000   \n",
      "max                 69.800000              70.300000              39.420000   \n",
      "\n",
      "       PC_Economica  PC_Metropoli  PC_Diversificata  PC_Qualita_Alta  \\\n",
      "count   6544.000000   6544.000000       6544.000000      6544.000000   \n",
      "mean      -0.622764     -1.070643          0.214200        -0.287118   \n",
      "std        0.896156      1.892311          1.229494         1.243282   \n",
      "min       -1.013910     -1.920219        -10.476463       -11.754395   \n",
      "25%       -0.780787     -1.878474          0.302821        -0.916544   \n",
      "50%       -0.704968     -1.746444          0.666932        -0.774592   \n",
      "75%       -0.609967     -1.303839          0.745272        -0.175138   \n",
      "max       33.733380     16.490288         20.510305         9.577358   \n",
      "\n",
      "       PC_Business  PC_Balneare   PC_Montano  PC_Costiero_Minore  \\\n",
      "count  6544.000000  6544.000000  6544.000000         6544.000000   \n",
      "mean     -0.096182     0.135543    -0.009048            0.055452   \n",
      "std       0.925540     1.042104     1.189803            0.740946   \n",
      "min      -8.739207   -10.797883    -3.993715           -8.868420   \n",
      "25%      -0.455241    -0.053317    -0.265512           -0.031755   \n",
      "50%      -0.366248     0.361118    -0.226411            0.077901   \n",
      "75%       0.020252     0.474519    -0.091502            0.120189   \n",
      "max      15.113953     9.149912    27.070857           11.423804   \n",
      "\n",
      "       PC_Balneare_Massa  PC_Religioso_Culturale  PC_Lusso_Termale  \\\n",
      "count        6544.000000             6544.000000       6544.000000   \n",
      "mean           -0.082048               -0.051641          0.013644   \n",
      "std             0.957575                0.887084          0.725294   \n",
      "min            -9.950910               -7.910251         -8.018388   \n",
      "25%            -0.482051               -0.293562         -0.034112   \n",
      "50%            -0.331532               -0.187527          0.091743   \n",
      "75%             0.110739                0.094726          0.120023   \n",
      "max             6.046712                6.379396          6.562069   \n",
      "\n",
      "       PC_Enogastronomico  PC_Lacustre_Transito  \n",
      "count         6544.000000           6544.000000  \n",
      "mean             0.015267             -0.016758  \n",
      "std              0.786577              0.710984  \n",
      "min             -8.401008             -7.361730  \n",
      "25%             -0.024861             -0.085493  \n",
      "50%              0.177372             -0.039666  \n",
      "75%              0.219955              0.043264  \n",
      "max              6.398982              7.153464  \n",
      "\n",
      "Valori molto alti/bassi per colonna:\n",
      "Indice di spopolamento: min=-252.0, max=69.8, Q1%=-42.3, Q99%=32.3\n",
      "Indice di occupazione: min=21.7, max=70.3, Q1%=28.9, Q99%=61.8\n",
      "Indice disoccupazione: min=0.97, max=39.42, Q1%=2.7743, Q99%=30.38709999999999\n",
      "PC_Economica: min=-1.0139095006396268, max=33.73338043445401, Q1%=-0.9081439869569888, Q99%=0.7162266046983059\n",
      "PC_Diversificata: min=-10.476462983484566, max=20.510304801948354, Q1%=-4.400987583395527, Q99%=0.7824315587700913\n",
      "PC_Qualita_Alta: min=-11.754395070266416, max=9.577357868130902, Q1%=-1.167104958271351, Q99%=3.9113223872471816\n",
      "PC_Business: min=-8.739206507279464, max=15.113953191024004, Q1%=-2.6570693270827466, Q99%=2.648476365844493\n",
      "PC_Balneare: min=-10.797882784306536, max=9.149911882537916, Q1%=-2.8033417510360965, Q99%=4.312113337426368\n",
      "PC_Montano: min=-3.99371534275853, max=27.070857046666823, Q1%=-1.821486425846199, Q99%=3.8634689024951934\n",
      "PC_Costiero_Minore: min=-8.868420453598146, max=11.42380426350694, Q1%=-2.019714832239786, Q99%=2.7560769458310483\n",
      "PC_Balneare_Massa: min=-9.950910187529182, max=6.046712236068748, Q1%=-2.638637343515703, Q99%=2.900441101652111\n",
      "PC_Lusso_Termale: min=-8.018388301063101, max=6.562069476702094, Q1%=-2.491316195357903, Q99%=2.4678266286950916\n",
      "PC_Lacustre_Transito: min=-7.361729504845424, max=7.153463852554902, Q1%=-2.4121323148147407, Q99%=2.2765237713698925\n"
     ]
    }
   ],
   "source": [
    "# Vedi le statistiche delle colonne di X_train_clean\n",
    "print(X_train_clean.describe())\n",
    "\n",
    "# Trova eventuali valori estremi solo per colonne numeriche (escludi bool)\n",
    "print(\"\\nValori molto alti/bassi per colonna:\")\n",
    "for col in X_train_clean.columns:\n",
    "    if pd.api.types.is_numeric_dtype(X_train_clean[col]) and X_train_clean[col].dtype != bool:\n",
    "        q99 = X_train_clean[col].quantile(0.99)\n",
    "        q01 = X_train_clean[col].quantile(0.01)\n",
    "        max_val = X_train_clean[col].max()\n",
    "        min_val = X_train_clean[col].min()\n",
    "        if max_val > q99 * 3 or min_val < q01 * 3:\n",
    "            print(f\"{col}: min={min_val}, max={max_val}, Q1%={q01}, Q99%={q99}\")"
   ]
  },
  {
   "cell_type": "code",
   "execution_count": 13,
   "id": "49df97fd",
   "metadata": {},
   "outputs": [
    {
     "name": "stdout",
     "output_type": "stream",
     "text": [
      "X_train_scaled range: 0.0 to 1.0\n"
     ]
    }
   ],
   "source": [
    "from sklearn.preprocessing import MinMaxScaler\n",
    "\n",
    "# Per X - MinMaxScaler (più robusto agli outliers)\n",
    "scaler_X = MinMaxScaler()\n",
    "X_train_scaled = scaler_X.fit_transform(X_train_clean)\n",
    "X_test_scaled = scaler_X.transform(X_test)\n",
    "\n",
    "# Per y - tieni StandardScaler (va bene)\n",
    "scaler_y = StandardScaler()\n",
    "y_train_scaled = scaler_y.fit_transform(y_train_clean.values.reshape(-1, 1)).flatten()\n",
    "y_test_scaled = scaler_y.transform(y_test.values.reshape(-1, 1)).flatten()\n",
    "\n",
    "print(\"X_train_scaled range:\", X_train_scaled.min(), \"to\", X_train_scaled.max())"
   ]
  },
  {
   "cell_type": "code",
   "execution_count": 14,
   "id": "aa90a00d",
   "metadata": {},
   "outputs": [
    {
     "name": "stdout",
     "output_type": "stream",
     "text": [
      "X_train_scaled range: 0.0 to 1.0\n",
      "y_train_scaled range: -1.4939893422192638 to 17.757595232106112\n"
     ]
    }
   ],
   "source": [
    "\n",
    "print(\"X_train_scaled range:\", X_train_scaled.min(), \"to\", X_train_scaled.max())\n",
    "print(\"y_train_scaled range:\", y_train_scaled.min(), \"to\", y_train_scaled.max())"
   ]
  },
  {
   "cell_type": "markdown",
   "id": "b2d7be49",
   "metadata": {},
   "source": [
    "# Hyperparameters optimization"
   ]
  },
  {
   "cell_type": "code",
   "execution_count": 18,
   "id": "106d2201",
   "metadata": {},
   "outputs": [],
   "source": [
    "# Funzione per definire il modello con iperparametri variabili\n",
    "def build_model(hp):\n",
    "    model = Sequential()\n",
    "    # Primo livello\n",
    "    model.add(Dense(units=hp.Fixed(\"units_1\", 256),\n",
    "                    activation='relu', input_shape=(X_train_scaled.shape[1],)))\n",
    "    # Secondo livello\n",
    "    model.add(Dense(units=hp.Int(\"units_2\", min_value=128, max_value=256, step=32),\n",
    "                    activation=\"relu\"))\n",
    "    # Terzo livello opzionale\n",
    "    if hp.Boolean(\"add_third_layer\"):\n",
    "        model.add(Dense(units=hp.Int(\"units_3\", min_value=32, max_value=256, step=32),\n",
    "                        activation=\"relu\"))\n",
    "    # Livello di output\n",
    "    model.add(Dense(1))  # Nessuna attivazione per regressione\n",
    "    # Compilazione del modello\n",
    "    model.compile(\n",
    "        optimizer=Adam(learning_rate=hp.Choice(\"learning_rate\", [1e-2, 1e-3, 1e-4])),\n",
    "        loss=\"mse\",\n",
    "        metrics=[\"mae\"]\n",
    "    )\n",
    "    return model\n"
   ]
  },
  {
   "cell_type": "code",
   "execution_count": 24,
   "id": "bcca24a1",
   "metadata": {},
   "outputs": [
    {
     "name": "stdout",
     "output_type": "stream",
     "text": [
      "Trial 254 Complete [00h 01m 15s]\n",
      "val_loss: 1117612.125\n",
      "\n",
      "Best val_loss So Far: 410404.90625\n",
      "Total elapsed time: 00h 52m 56s\n"
     ]
    }
   ],
   "source": [
    "# Creazione del tuner per cercare i migliori iperparametri\n",
    "tuner = kt.Hyperband(\n",
    "    build_model,\n",
    "    objective='val_loss',\n",
    "    max_epochs=100,\n",
    "    factor=3,\n",
    "    directory='my_tuner',\n",
    "    project_name='house_price_prediction'\n",
    ")\n",
    "\n",
    "# Callback per interrompere l'addestramento se non ci sono miglioramenti\n",
    "early_stopping = tf.keras.callbacks.EarlyStopping(monitor='val_loss', patience=10)\n",
    "\n",
    "# Ricerca degli iperparametri migliori\n",
    "tuner.search(X_train, y_train, validation_split=0.2, epochs=50, callbacks=[early_stopping])\n"
   ]
  },
  {
   "cell_type": "code",
   "execution_count": 25,
   "id": "ef84ba7c",
   "metadata": {},
   "outputs": [
    {
     "name": "stdout",
     "output_type": "stream",
     "text": [
      "Migliori iperparametri trovati:\n",
      "- Unità nel primo livello: 256\n",
      "- Unità nel secondo livello: 224\n",
      "- Learning rate: 0.01\n"
     ]
    }
   ],
   "source": [
    "# Mostrare i migliori iperparametri trovati\n",
    "best_hps = tuner.get_best_hyperparameters(num_trials=1)[0]\n",
    "print(f\"Migliori iperparametri trovati:\")\n",
    "print(f\"- Unità nel primo livello: {best_hps.get(\"units_1\")}\")\n",
    "print(f\"- Unità nel secondo livello: {best_hps.get(\"units_2\")}\")\n",
    "if best_hps.get(\"add_third_layer\"):\n",
    "    print(f\"- Unità nel terzo livello: {best_hps.get(\"units_3\")}\")\n",
    "print(f\"- Learning rate: {best_hps.get(\"learning_rate\")}\")\n",
    "\n"
   ]
  },
  {
   "cell_type": "code",
   "execution_count": 26,
   "id": "80f3ec4d",
   "metadata": {},
   "outputs": [
    {
     "name": "stderr",
     "output_type": "stream",
     "text": [
      "c:\\Users\\Acer\\OneDrive\\Desktop\\DevlHope\\Team4 - Immobili\\repo\\real_estate_predictive_model\\lucia.venv\\Lib\\site-packages\\keras\\src\\layers\\core\\dense.py:87: UserWarning: Do not pass an `input_shape`/`input_dim` argument to a layer. When using Sequential models, prefer using an `Input(shape)` object as the first layer in the model instead.\n",
      "  super().__init__(activity_regularizer=activity_regularizer, **kwargs)\n"
     ]
    },
    {
     "name": "stdout",
     "output_type": "stream",
     "text": [
      "Epoch 1/50\n",
      "\u001b[1m164/164\u001b[0m \u001b[32m━━━━━━━━━━━━━━━━━━━━\u001b[0m\u001b[37m\u001b[0m \u001b[1m5s\u001b[0m 12ms/step - loss: 644153.0000 - mae: 514.6702 - val_loss: 1405667.1250 - val_mae: 997.7584\n",
      "Epoch 2/50\n",
      "\u001b[1m164/164\u001b[0m \u001b[32m━━━━━━━━━━━━━━━━━━━━\u001b[0m\u001b[37m\u001b[0m \u001b[1m1s\u001b[0m 4ms/step - loss: 1509924.8750 - mae: 994.9419 - val_loss: 981851.2500 - val_mae: 757.6348\n",
      "Epoch 3/50\n",
      "\u001b[1m164/164\u001b[0m \u001b[32m━━━━━━━━━━━━━━━━━━━━\u001b[0m\u001b[37m\u001b[0m \u001b[1m1s\u001b[0m 4ms/step - loss: 1072096.5000 - mae: 684.1569 - val_loss: 454191.3750 - val_mae: 416.6167\n",
      "Epoch 4/50\n",
      "\u001b[1m164/164\u001b[0m \u001b[32m━━━━━━━━━━━━━━━━━━━━\u001b[0m\u001b[37m\u001b[0m \u001b[1m1s\u001b[0m 3ms/step - loss: 553371.6875 - mae: 439.4633 - val_loss: 410504.4062 - val_mae: 428.9053\n",
      "Epoch 5/50\n",
      "\u001b[1m164/164\u001b[0m \u001b[32m━━━━━━━━━━━━━━━━━━━━\u001b[0m\u001b[37m\u001b[0m \u001b[1m1s\u001b[0m 4ms/step - loss: 488192.7188 - mae: 449.4060 - val_loss: 410794.4375 - val_mae: 431.5202\n",
      "Epoch 6/50\n",
      "\u001b[1m164/164\u001b[0m \u001b[32m━━━━━━━━━━━━━━━━━━━━\u001b[0m\u001b[37m\u001b[0m \u001b[1m1s\u001b[0m 4ms/step - loss: 464398.2188 - mae: 448.9545 - val_loss: 411298.5312 - val_mae: 434.3785\n",
      "Epoch 7/50\n",
      "\u001b[1m164/164\u001b[0m \u001b[32m━━━━━━━━━━━━━━━━━━━━\u001b[0m\u001b[37m\u001b[0m \u001b[1m1s\u001b[0m 4ms/step - loss: 466028.3438 - mae: 448.3636 - val_loss: 411206.4062 - val_mae: 433.9220\n",
      "Epoch 8/50\n",
      "\u001b[1m164/164\u001b[0m \u001b[32m━━━━━━━━━━━━━━━━━━━━\u001b[0m\u001b[37m\u001b[0m \u001b[1m1s\u001b[0m 3ms/step - loss: 463823.0000 - mae: 444.6083 - val_loss: 411746.3750 - val_mae: 436.3983\n",
      "Epoch 9/50\n",
      "\u001b[1m164/164\u001b[0m \u001b[32m━━━━━━━━━━━━━━━━━━━━\u001b[0m\u001b[37m\u001b[0m \u001b[1m1s\u001b[0m 3ms/step - loss: 478065.3438 - mae: 458.0504 - val_loss: 411117.1250 - val_mae: 433.4607\n",
      "Epoch 10/50\n",
      "\u001b[1m164/164\u001b[0m \u001b[32m━━━━━━━━━━━━━━━━━━━━\u001b[0m\u001b[37m\u001b[0m \u001b[1m1s\u001b[0m 3ms/step - loss: 471795.5625 - mae: 453.1440 - val_loss: 410978.8125 - val_mae: 432.6928\n",
      "Epoch 11/50\n",
      "\u001b[1m164/164\u001b[0m \u001b[32m━━━━━━━━━━━━━━━━━━━━\u001b[0m\u001b[37m\u001b[0m \u001b[1m1s\u001b[0m 3ms/step - loss: 474533.7188 - mae: 441.6279 - val_loss: 411286.4375 - val_mae: 434.3199\n",
      "Epoch 12/50\n",
      "\u001b[1m164/164\u001b[0m \u001b[32m━━━━━━━━━━━━━━━━━━━━\u001b[0m\u001b[37m\u001b[0m \u001b[1m1s\u001b[0m 6ms/step - loss: 609347.0625 - mae: 466.8756 - val_loss: 411668.0000 - val_mae: 436.0683\n",
      "Epoch 13/50\n",
      "\u001b[1m164/164\u001b[0m \u001b[32m━━━━━━━━━━━━━━━━━━━━\u001b[0m\u001b[37m\u001b[0m \u001b[1m1s\u001b[0m 5ms/step - loss: 451128.5938 - mae: 447.7221 - val_loss: 410976.6562 - val_mae: 432.6804\n",
      "Epoch 14/50\n",
      "\u001b[1m164/164\u001b[0m \u001b[32m━━━━━━━━━━━━━━━━━━━━\u001b[0m\u001b[37m\u001b[0m \u001b[1m1s\u001b[0m 5ms/step - loss: 575119.8125 - mae: 451.9978 - val_loss: 411865.0938 - val_mae: 436.8843\n"
     ]
    }
   ],
   "source": [
    "# Costruzione del modello con i migliori iperparametri\n",
    "best_model = tuner.hypermodel.build(best_hps)\n",
    "# Addestramento del modello con i migliori iperparametri\n",
    "history = best_model.fit(X_train, y_train, validation_split=0.2, epochs=50, callbacks=[early_stopping])\n"
   ]
  },
  {
   "cell_type": "code",
   "execution_count": 27,
   "id": "fe2dd9c0",
   "metadata": {},
   "outputs": [
    {
     "name": "stdout",
     "output_type": "stream",
     "text": [
      "\u001b[1m52/52\u001b[0m \u001b[32m━━━━━━━━━━━━━━━━━━━━\u001b[0m\u001b[37m\u001b[0m \u001b[1m0s\u001b[0m 4ms/step\n",
      "Mean Absolute Error (MAE): 486.1106692237681\n",
      "Mean Squared Error (MSE): 635934.3615515004\n",
      "Root Mean Squared Error (RMSE): 797.454927598733\n",
      "R-squared (R2): -0.0010700285686002786\n"
     ]
    }
   ],
   "source": [
    "y_pred = best_model.predict(X_test)\n",
    "# Calcolo delle metriche\n",
    "mae = mean_absolute_error(y_test, y_pred)\n",
    "mse = mean_squared_error(y_test, y_pred)\n",
    "rmse = np.sqrt(mse)\n",
    "r2 = r2_score(y_test, y_pred)\n",
    "print(f\"Mean Absolute Error (MAE): {mae}\")\n",
    "print(f\"Mean Squared Error (MSE): {mse}\")\n",
    "print(f\"Root Mean Squared Error (RMSE): {rmse}\")\n",
    "print(f\"R-squared (R2): {r2}\")"
   ]
  },
  {
   "cell_type": "code",
   "execution_count": 28,
   "id": "dcb1baff",
   "metadata": {},
   "outputs": [
    {
     "data": {
      "image/png": "[encoded data removed]",
      "text/plain": [
       "<Figure size 700x700 with 1 Axes>"
      ]
     },
     "metadata": {},
     "output_type": "display_data"
    }
   ],
   "source": [
    "# Grafico di confronto tra valori reali e predetti\n",
    "plt.figure(figsize=(7,7))\n",
    "plt.scatter(y_test, y_pred, alpha=0.3)\n",
    "plt.plot([y_test.min(), y_test.max()], [y_test.min(), y_test.max()], color='red', linestyle='--')\n",
    "plt.xlabel(\"Valori Reali (y_test)\")\n",
    "plt.ylabel(\"Valori Predetti (y_pred)\")\n",
    "plt.title(\"Confronto tra Valori Reali e Predetti\")\n",
    "plt.show()"
   ]
  },
  {
   "cell_type": "code",
   "execution_count": null,
   "id": "43f56b18",
   "metadata": {},
   "outputs": [],
   "source": []
  }
 ],
 "metadata": {
  "kernelspec": {
   "display_name": "lucia.venv",
   "language": "python",
   "name": "python3"
  },
  "language_info": {
   "codemirror_mode": {
    "name": "ipython",
    "version": 3
   },
   "file_extension": ".py",
   "mimetype": "text/x-python",
   "name": "python",
   "nbconvert_exporter": "python",
   "pygments_lexer": "ipython3",
   "version": "3.12.8"
  }
 },
 "nbformat": 4,
 "nbformat_minor": 5
}
