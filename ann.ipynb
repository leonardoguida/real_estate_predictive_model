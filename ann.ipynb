{
 "cells": [
  {
   "cell_type": "code",
   "execution_count": 1,
   "id": "85a0b404",
   "metadata": {},
   "outputs": [],
   "source": [
    "import pandas as pd\n",
    "from sklearn.model_selection import train_test_split\n",
    "from sklearn.preprocessing import StandardScaler, OneHotEncoder\n",
    "from sklearn.impute import SimpleImputer\n",
    "from sklearn.compose import ColumnTransformer\n",
    "from sklearn.pipeline import Pipeline\n",
    "import tensorflow as tf\n",
    "from tensorflow.keras import Sequential\n",
    "from tensorflow.keras.layers import Dense\n",
    "from tensorflow.keras.callbacks import EarlyStopping\n",
    "import matplotlib.pyplot as plt\n",
    "import keras_tuner as kt\n",
    "from tensorflow.keras.optimizers import Adam\n",
    "from sklearn.metrics import mean_absolute_error, mean_squared_error, r2_score\n",
    "import numpy as np\n"
   ]
  },
  {
   "cell_type": "code",
   "execution_count": 2,
   "id": "faf89bad",
   "metadata": {},
   "outputs": [],
   "source": [
    "df = pd.read_csv('data/df_regression.csv')\n"
   ]
  },
  {
   "cell_type": "code",
   "execution_count": 3,
   "id": "fd807ac0",
   "metadata": {},
   "outputs": [
    {
     "data": {
      "text/plain": [
       "Index(['id_istat', 'id_comune', 'Provincia', 'Regione',\n",
       "       'Ripartizione Geografica', 'id_catastale', 'Indice di spopolamento',\n",
       "       'Codice regione', 'Capoluogo_enc', 'Codice comuni',\n",
       "       'Indice di occupazione', 'Indice disoccupazione', 'Fascia',\n",
       "       'Descrizione Zona', 'Sottofascia Zona', 'id_univoco',\n",
       "       'Costo Minimo alla Vendita', 'Costo Massimo alla Vendita',\n",
       "       'Media Costo alla Vendita', 'Costo Minimo alla Locazione',\n",
       "       'Costo Massimo alla Locazione', 'Media Costo alla Locazione',\n",
       "       'Cod. Circoscrizione Turistica',\n",
       "       'Tipo di località_Altri comuni non altrimenti classificati',\n",
       "       'Tipo di località_Capoluogo senza specifici interessi turistici',\n",
       "       'Tipo di località_Città d'Arte', 'Tipo di località_Località collinari',\n",
       "       'Tipo di località_Località lacuali', 'Tipo di località_Località marine',\n",
       "       'Tipo di località_Località montane',\n",
       "       'Tipo di località_Località religiose',\n",
       "       'Tipo di località_Località termali', 'PC_Economica', 'PC_Turistica_1',\n",
       "       'PC_Turistica_2', 'PC_Turistica_3', 'PC_Turistica_4', 'PC_Turistica_5',\n",
       "       'PC_Turistica_6', 'PC_Turistica_7', 'PC_Turistica_8', 'PC_Turistica_9',\n",
       "       'PC_Turistica_10', 'PC_Turistica_11', 'PC_Turistica_12',\n",
       "       'Macroarea_Isole', 'Macroarea_Nord', 'Macroarea_Sud',\n",
       "       'Descrizione_Tipologia_di_Immobile_Abitazioni_di_tipo_economico',\n",
       "       'Descrizione_Tipologia_di_Immobile_Abitazioni_signorili',\n",
       "       'Descrizione_Tipologia_di_Immobile_Abitazioni_tipiche_dei_luoghi',\n",
       "       'Descrizione_Tipologia_di_Immobile_Ville_e_Villini'],\n",
       "      dtype='object')"
      ]
     },
     "execution_count": 3,
     "metadata": {},
     "output_type": "execute_result"
    }
   ],
   "source": [
    "df.columns"
   ]
  },
  {
   "cell_type": "code",
   "execution_count": 4,
   "id": "f62d4a94",
   "metadata": {},
   "outputs": [
    {
     "name": "stdout",
     "output_type": "stream",
     "text": [
      "<class 'pandas.core.frame.DataFrame'>\n",
      "RangeIndex: 21513 entries, 0 to 21512\n",
      "Data columns (total 52 columns):\n",
      " #   Column                                                           Non-Null Count  Dtype  \n",
      "---  ------                                                           --------------  -----  \n",
      " 0   id_istat                                                         21513 non-null  int64  \n",
      " 1   id_comune                                                        21512 non-null  object \n",
      " 2   Provincia                                                        21513 non-null  object \n",
      " 3   Regione                                                          21513 non-null  object \n",
      " 4   Ripartizione Geografica                                          21513 non-null  object \n",
      " 5   id_catastale                                                     21513 non-null  object \n",
      " 6   Indice di spopolamento                                           21512 non-null  float64\n",
      " 7   Codice regione                                                   21513 non-null  int64  \n",
      " 8   Capoluogo_enc                                                    21513 non-null  int64  \n",
      " 9   Codice comuni                                                    21513 non-null  float64\n",
      " 10  Indice di occupazione                                            21512 non-null  float64\n",
      " 11  Indice disoccupazione                                            21508 non-null  float64\n",
      " 12  Fascia                                                           21513 non-null  object \n",
      " 13  Descrizione Zona                                                 21513 non-null  object \n",
      " 14  Sottofascia Zona                                                 21513 non-null  object \n",
      " 15  id_univoco                                                       21513 non-null  object \n",
      " 16  Costo Minimo alla Vendita                                        21513 non-null  float64\n",
      " 17  Costo Massimo alla Vendita                                       21513 non-null  float64\n",
      " 18  Media Costo alla Vendita                                         21513 non-null  float64\n",
      " 19  Costo Minimo alla Locazione                                      21513 non-null  float64\n",
      " 20  Costo Massimo alla Locazione                                     21513 non-null  float64\n",
      " 21  Media Costo alla Locazione                                       21513 non-null  float64\n",
      " 22  Cod. Circoscrizione Turistica                                    20556 non-null  float64\n",
      " 23  Tipo di località_Altri comuni non altrimenti classificati        21513 non-null  bool   \n",
      " 24  Tipo di località_Capoluogo senza specifici interessi turistici   21513 non-null  bool   \n",
      " 25  Tipo di località_Città d'Arte                                    21513 non-null  bool   \n",
      " 26  Tipo di località_Località collinari                              21513 non-null  bool   \n",
      " 27  Tipo di località_Località lacuali                                21513 non-null  bool   \n",
      " 28  Tipo di località_Località marine                                 21513 non-null  bool   \n",
      " 29  Tipo di località_Località montane                                21513 non-null  bool   \n",
      " 30  Tipo di località_Località religiose                              21513 non-null  bool   \n",
      " 31  Tipo di località_Località termali                                21513 non-null  bool   \n",
      " 32  PC_Economica                                                     21513 non-null  float64\n",
      " 33  PC_Turistica_1                                                   21513 non-null  float64\n",
      " 34  PC_Turistica_2                                                   21513 non-null  float64\n",
      " 35  PC_Turistica_3                                                   21513 non-null  float64\n",
      " 36  PC_Turistica_4                                                   21513 non-null  float64\n",
      " 37  PC_Turistica_5                                                   21513 non-null  float64\n",
      " 38  PC_Turistica_6                                                   21513 non-null  float64\n",
      " 39  PC_Turistica_7                                                   21513 non-null  float64\n",
      " 40  PC_Turistica_8                                                   21513 non-null  float64\n",
      " 41  PC_Turistica_9                                                   21513 non-null  float64\n",
      " 42  PC_Turistica_10                                                  21513 non-null  float64\n",
      " 43  PC_Turistica_11                                                  21513 non-null  float64\n",
      " 44  PC_Turistica_12                                                  21513 non-null  float64\n",
      " 45  Macroarea_Isole                                                  21513 non-null  bool   \n",
      " 46  Macroarea_Nord                                                   21513 non-null  bool   \n",
      " 47  Macroarea_Sud                                                    21513 non-null  bool   \n",
      " 48  Descrizione_Tipologia_di_Immobile_Abitazioni_di_tipo_economico   21513 non-null  bool   \n",
      " 49  Descrizione_Tipologia_di_Immobile_Abitazioni_signorili           21513 non-null  bool   \n",
      " 50  Descrizione_Tipologia_di_Immobile_Abitazioni_tipiche_dei_luoghi  21513 non-null  bool   \n",
      " 51  Descrizione_Tipologia_di_Immobile_Ville_e_Villini                21513 non-null  bool   \n",
      "dtypes: bool(16), float64(24), int64(3), object(9)\n",
      "memory usage: 6.2+ MB\n"
     ]
    }
   ],
   "source": [
    "df.info()"
   ]
  },
  {
   "cell_type": "code",
   "execution_count": 5,
   "id": "35172e5d",
   "metadata": {},
   "outputs": [],
   "source": [
    "# Creating the x_vars list \n",
    "x_vars = [\"Indice di spopolamento\",\"Indice di occupazione\",\n",
    "          \"Indice disoccupazione\",\"Tipo di località_Altri comuni non altrimenti classificati\",\n",
    "          \"Tipo di località_Capoluogo senza specifici interessi turistici\",\"Tipo di località_Città d\\'Arte\",\n",
    "          \"Tipo di località_Località collinari\",\"Tipo di località_Località lacuali\",\n",
    "          \"Tipo di località_Località marine\",\"Tipo di località_Località montane\",\n",
    "          \"Tipo di località_Località religiose\",\"Tipo di località_Località termali\", \n",
    "          \"PC_Economica\",\"PC_Turistica_1\",\"PC_Turistica_2\", \"PC_Turistica_3\", \"PC_Turistica_4\", \n",
    "          \"PC_Turistica_5\", \"PC_Turistica_6\", \"PC_Turistica_7\", \"PC_Turistica_8\", \"PC_Turistica_9\", \n",
    "          \"PC_Turistica_10\", \"PC_Turistica_11\", \"PC_Turistica_12\", \"Macroarea_Isole\", \"Macroarea_Nord\", \n",
    "          \"Macroarea_Sud\",\"Descrizione_Tipologia_di_Immobile_Abitazioni_di_tipo_economico\", \n",
    "          \"Descrizione_Tipologia_di_Immobile_Abitazioni_signorili\", \n",
    "          \"Descrizione_Tipologia_di_Immobile_Abitazioni_tipiche_dei_luoghi\",\n",
    "          \"Descrizione_Tipologia_di_Immobile_Ville_e_Villini\"]\n"
   ]
  },
  {
   "cell_type": "code",
   "execution_count": 6,
   "id": "ccd5f881",
   "metadata": {},
   "outputs": [],
   "source": [
    "# Identifica automaticamente le colonne PCA e non-PCA\n",
    "pca_columns = [col for col in x_vars if col.startswith(\"PC_\")]\n",
    "non_pca_columns = [col for col in x_vars if not col.startswith(\"PC_\")]\n",
    "\n",
    "# Crea un DataFrame con i dati originali\n",
    "X = df[x_vars]  # Questo contiene TUTTE le colonne in x_vars\n",
    "y = df[\"Media Costo alla Vendita\"]\n",
    "\n",
    "# Inizializza lo StandardScaler\n",
    "scaler = StandardScaler()\n",
    "\n",
    "# Crea una copia di X per i dati standardizzati\n",
    "X_scaled = X.copy()  # X_scaled ha TUTTE le colonne originali\n",
    "\n",
    "# Standardizza SOLO le colonne non-PCA, mantenendole in X_scaled\n",
    "X_scaled[non_pca_columns] = scaler.fit_transform(X[non_pca_columns])"
   ]
  },
  {
   "cell_type": "code",
   "execution_count": 7,
   "id": "1449a66e",
   "metadata": {},
   "outputs": [],
   "source": [
    "X_train, X_test, y_train, y_test = train_test_split(X_scaled, y, test_size=0.2, random_state=1)"
   ]
  },
  {
   "cell_type": "markdown",
   "id": "b2d7be49",
   "metadata": {},
   "source": [
    "# Hyperparameters optimization"
   ]
  },
  {
   "cell_type": "code",
   "execution_count": 8,
   "id": "106d2201",
   "metadata": {},
   "outputs": [],
   "source": [
    "# Funzione per definire il modello con iperparametri variabili\n",
    "def build_model(hp):\n",
    "    model = Sequential()\n",
    "    # Primo livello\n",
    "    model.add(Dense(units=hp.Fixed(\"units_1\", 256),\n",
    "                    activation='relu', input_shape=(X_train.shape[1],)))\n",
    "    # secondo livello\n",
    "    model.add(Dense(units=hp.Int(\"units_2\", min_value=128, max_value=256, step=32),\n",
    "                    activation=\"relu\", input_shape=(X_train.shape[1],)))\n",
    "    # terzo livello opzionale\n",
    "    if hp.Boolean(\"add_third_layer\"):\n",
    "        model.add(Dense(units=hp.Int(\"units_3\", min_value=32, max_value=256, step=32),\n",
    "                        activation=\"relu\"))\n",
    "    # Livello di output\n",
    "    model.add(Dense(1))  # Nessuna attivazione per regressione\n",
    "    # Compilazione del modello\n",
    "    model.compile(\n",
    "        optimizer=Adam(learning_rate=hp.Choice(\"learning_rate\", [1e-2, 1e-3, 1e-4])),\n",
    "        loss=\"mse\",\n",
    "        metrics=[\"mae\"]\n",
    "    )\n",
    "    return model\n"
   ]
  },
  {
   "cell_type": "code",
   "execution_count": 9,
   "id": "bcca24a1",
   "metadata": {},
   "outputs": [
    {
     "name": "stdout",
     "output_type": "stream",
     "text": [
      "Trial 254 Complete [00h 00m 42s]\n",
      "val_loss: 791274.625\n",
      "\n",
      "Best val_loss So Far: 791274.4375\n",
      "Total elapsed time: 01h 05m 14s\n"
     ]
    }
   ],
   "source": [
    "# Creazione del tuner per cercare i migliori iperparametri\n",
    "tuner = kt.Hyperband(\n",
    "    build_model,\n",
    "    objective='val_loss',\n",
    "    max_epochs=100,\n",
    "    factor=3,\n",
    "    directory='my_tuner',\n",
    "    project_name='house_price_prediction'\n",
    ")\n",
    "\n",
    "# Callback per interrompere l'addestramento se non ci sono miglioramenti\n",
    "early_stopping = tf.keras.callbacks.EarlyStopping(monitor='val_loss', patience=10)\n",
    "\n",
    "# Ricerca degli iperparametri migliori\n",
    "tuner.search(X_train, y_train, validation_split=0.2, epochs=50, callbacks=[early_stopping])\n"
   ]
  },
  {
   "cell_type": "code",
   "execution_count": 15,
   "id": "ef84ba7c",
   "metadata": {},
   "outputs": [
    {
     "name": "stdout",
     "output_type": "stream",
     "text": [
      "Migliori iperparametri trovati:\n",
      "- Unità nel primo livello: 256\n",
      "- Unità nel secondo livello: 192\n",
      "- Unità nel terzo livello: 192\n",
      "- Learning rate: 0.001\n"
     ]
    }
   ],
   "source": [
    "# Mostrare i migliori iperparametri trovati\n",
    "best_hps = tuner.get_best_hyperparameters(num_trials=1)[0]\n",
    "print(f\"Migliori iperparametri trovati:\")\n",
    "print(f\"- Unità nel primo livello: {best_hps.get(\"units_1\")}\")\n",
    "print(f\"- Unità nel secondo livello: {best_hps.get(\"units_2\")}\")\n",
    "if best_hps.get(\"add_third_layer\"):\n",
    "    print(f\"- Unità nel terzo livello: {best_hps.get(\"units_3\")}\")\n",
    "print(f\"- Learning rate: {best_hps.get(\"learning_rate\")}\")\n",
    "\n"
   ]
  },
  {
   "cell_type": "code",
   "execution_count": 11,
   "id": "80f3ec4d",
   "metadata": {},
   "outputs": [
    {
     "name": "stdout",
     "output_type": "stream",
     "text": [
      "Epoch 1/50\n"
     ]
    },
    {
     "name": "stderr",
     "output_type": "stream",
     "text": [
      "c:\\Users\\Acer\\OneDrive\\Desktop\\DevlHope\\Team4 - Immobili\\repo\\real_estate_predictive_model\\lucia.venv\\Lib\\site-packages\\keras\\src\\layers\\core\\dense.py:87: UserWarning: Do not pass an `input_shape`/`input_dim` argument to a layer. When using Sequential models, prefer using an `Input(shape)` object as the first layer in the model instead.\n",
      "  super().__init__(activity_regularizer=activity_regularizer, **kwargs)\n"
     ]
    },
    {
     "name": "stdout",
     "output_type": "stream",
     "text": [
      "\u001b[1m431/431\u001b[0m \u001b[32m━━━━━━━━━━━━━━━━━━━━\u001b[0m\u001b[37m\u001b[0m \u001b[1m3s\u001b[0m 4ms/step - loss: 1477484.1250 - mae: 870.6282 - val_loss: 1629768.0000 - val_mae: 919.5494\n",
      "Epoch 2/50\n",
      "\u001b[1m431/431\u001b[0m \u001b[32m━━━━━━━━━━━━━━━━━━━━\u001b[0m\u001b[37m\u001b[0m \u001b[1m2s\u001b[0m 4ms/step - loss: 1143043.7500 - mae: 685.4458 - val_loss: 791318.5625 - val_mae: 599.3151\n",
      "Epoch 3/50\n",
      "\u001b[1m431/431\u001b[0m \u001b[32m━━━━━━━━━━━━━━━━━━━━\u001b[0m\u001b[37m\u001b[0m \u001b[1m2s\u001b[0m 4ms/step - loss: 775012.0000 - mae: 594.0974 - val_loss: 792450.6250 - val_mae: 592.2325\n",
      "Epoch 4/50\n",
      "\u001b[1m431/431\u001b[0m \u001b[32m━━━━━━━━━━━━━━━━━━━━\u001b[0m\u001b[37m\u001b[0m \u001b[1m1s\u001b[0m 3ms/step - loss: 762310.8750 - mae: 585.6363 - val_loss: 791538.3125 - val_mae: 605.6964\n",
      "Epoch 5/50\n",
      "\u001b[1m431/431\u001b[0m \u001b[32m━━━━━━━━━━━━━━━━━━━━\u001b[0m\u001b[37m\u001b[0m \u001b[1m1s\u001b[0m 3ms/step - loss: 770266.8125 - mae: 590.7717 - val_loss: 791316.2500 - val_mae: 599.3729\n",
      "Epoch 6/50\n",
      "\u001b[1m431/431\u001b[0m \u001b[32m━━━━━━━━━━━━━━━━━━━━\u001b[0m\u001b[37m\u001b[0m \u001b[1m2s\u001b[0m 5ms/step - loss: 786555.5625 - mae: 592.5531 - val_loss: 791302.5000 - val_mae: 602.5479\n",
      "Epoch 7/50\n",
      "\u001b[1m431/431\u001b[0m \u001b[32m━━━━━━━━━━━━━━━━━━━━\u001b[0m\u001b[37m\u001b[0m \u001b[1m2s\u001b[0m 4ms/step - loss: 752538.1250 - mae: 585.3355 - val_loss: 791276.0625 - val_mae: 601.4460\n",
      "Epoch 8/50\n",
      "\u001b[1m431/431\u001b[0m \u001b[32m━━━━━━━━━━━━━━━━━━━━\u001b[0m\u001b[37m\u001b[0m \u001b[1m3s\u001b[0m 8ms/step - loss: 785220.3750 - mae: 589.2624 - val_loss: 791394.8750 - val_mae: 598.1452\n",
      "Epoch 9/50\n",
      "\u001b[1m431/431\u001b[0m \u001b[32m━━━━━━━━━━━━━━━━━━━━\u001b[0m\u001b[37m\u001b[0m \u001b[1m1s\u001b[0m 3ms/step - loss: 795891.1250 - mae: 597.6868 - val_loss: 792649.5625 - val_mae: 591.5351\n",
      "Epoch 10/50\n",
      "\u001b[1m431/431\u001b[0m \u001b[32m━━━━━━━━━━━━━━━━━━━━\u001b[0m\u001b[37m\u001b[0m \u001b[1m1s\u001b[0m 3ms/step - loss: 729590.4375 - mae: 578.2507 - val_loss: 792502.4375 - val_mae: 611.3847\n",
      "Epoch 11/50\n",
      "\u001b[1m431/431\u001b[0m \u001b[32m━━━━━━━━━━━━━━━━━━━━\u001b[0m\u001b[37m\u001b[0m \u001b[1m1s\u001b[0m 3ms/step - loss: 837143.2500 - mae: 595.5997 - val_loss: 791669.1875 - val_mae: 595.8475\n",
      "Epoch 12/50\n",
      "\u001b[1m431/431\u001b[0m \u001b[32m━━━━━━━━━━━━━━━━━━━━\u001b[0m\u001b[37m\u001b[0m \u001b[1m1s\u001b[0m 3ms/step - loss: 765474.7500 - mae: 589.0758 - val_loss: 791289.7500 - val_mae: 600.0573\n",
      "Epoch 13/50\n",
      "\u001b[1m431/431\u001b[0m \u001b[32m━━━━━━━━━━━━━━━━━━━━\u001b[0m\u001b[37m\u001b[0m \u001b[1m1s\u001b[0m 3ms/step - loss: 796238.8125 - mae: 591.8736 - val_loss: 791456.5625 - val_mae: 604.8617\n",
      "Epoch 14/50\n",
      "\u001b[1m431/431\u001b[0m \u001b[32m━━━━━━━━━━━━━━━━━━━━\u001b[0m\u001b[37m\u001b[0m \u001b[1m1s\u001b[0m 3ms/step - loss: 769452.1875 - mae: 594.6688 - val_loss: 791326.8750 - val_mae: 599.1566\n",
      "Epoch 15/50\n",
      "\u001b[1m431/431\u001b[0m \u001b[32m━━━━━━━━━━━━━━━━━━━━\u001b[0m\u001b[37m\u001b[0m \u001b[1m2s\u001b[0m 4ms/step - loss: 811202.9375 - mae: 594.3629 - val_loss: 791524.9375 - val_mae: 596.8586\n",
      "Epoch 16/50\n",
      "\u001b[1m431/431\u001b[0m \u001b[32m━━━━━━━━━━━━━━━━━━━━\u001b[0m\u001b[37m\u001b[0m \u001b[1m1s\u001b[0m 3ms/step - loss: 784998.6875 - mae: 589.9796 - val_loss: 791794.6875 - val_mae: 595.1109\n",
      "Epoch 17/50\n",
      "\u001b[1m431/431\u001b[0m \u001b[32m━━━━━━━━━━━━━━━━━━━━\u001b[0m\u001b[37m\u001b[0m \u001b[1m1s\u001b[0m 3ms/step - loss: 836463.4375 - mae: 605.2304 - val_loss: 791518.2500 - val_mae: 605.5031\n"
     ]
    }
   ],
   "source": [
    "# Costruzione del modello con i migliori iperparametri\n",
    "best_model = tuner.hypermodel.build(best_hps)\n",
    "# Addestramento del modello con i migliori iperparametri\n",
    "history = best_model.fit(X_train, y_train, validation_split=0.2, epochs=50, callbacks=[early_stopping])\n"
   ]
  },
  {
   "cell_type": "code",
   "execution_count": 12,
   "id": "fe2dd9c0",
   "metadata": {},
   "outputs": [
    {
     "name": "stdout",
     "output_type": "stream",
     "text": [
      "\u001b[1m135/135\u001b[0m \u001b[32m━━━━━━━━━━━━━━━━━━━━\u001b[0m\u001b[37m\u001b[0m \u001b[1m0s\u001b[0m 2ms/step\n",
      "Mean Absolute Error (MAE): 613.0939532046592\n",
      "Mean Squared Error (MSE): 867827.4247219701\n",
      "Root Mean Squared Error (RMSE): 931.572554727741\n",
      "R-squared (R2): -0.00014265593750040217\n"
     ]
    }
   ],
   "source": [
    "y_pred = best_model.predict(X_test)\n",
    "# Calcolo delle metriche\n",
    "mae = mean_absolute_error(y_test, y_pred)\n",
    "mse = mean_squared_error(y_test, y_pred)\n",
    "rmse = np.sqrt(mse)\n",
    "r2 = r2_score(y_test, y_pred)\n",
    "print(f\"Mean Absolute Error (MAE): {mae}\")\n",
    "print(f\"Mean Squared Error (MSE): {mse}\")\n",
    "print(f\"Root Mean Squared Error (RMSE): {rmse}\")\n",
    "print(f\"R-squared (R2): {r2}\")"
   ]
  },
  {
   "cell_type": "code",
   "execution_count": 13,
   "id": "dcb1baff",
   "metadata": {},
   "outputs": [
    {
     "data": {
      "image/png": "[encoded data removed]",
      "text/plain": [
       "<Figure size 1000x1000 with 1 Axes>"
      ]
     },
     "metadata": {},
     "output_type": "display_data"
    }
   ],
   "source": [
    "# Grafico di confronto tra valori reali e predetti\n",
    "plt.figure(figsize=(10, 10))\n",
    "plt.scatter(y_test, y_pred, alpha=0.3)\n",
    "plt.plot([y_test.min(), y_test.max()], [y_test.min(), y_test.max()], color='red', linestyle='--')\n",
    "plt.xlabel(\"Valori Reali (y_test)\")\n",
    "plt.ylabel(\"Valori Predetti (y_pred)\")\n",
    "plt.title(\"Confronto tra Valori Reali e Predetti\")\n",
    "plt.show()"
   ]
  }
 ],
 "metadata": {
  "kernelspec": {
   "display_name": "lucia.venv",
   "language": "python",
   "name": "python3"
  },
  "language_info": {
   "codemirror_mode": {
    "name": "ipython",
    "version": 3
   },
   "file_extension": ".py",
   "mimetype": "text/x-python",
   "name": "python",
   "nbconvert_exporter": "python",
   "pygments_lexer": "ipython3",
   "version": "3.12.8"
  }
 },
 "nbformat": 4,
 "nbformat_minor": 5
}
