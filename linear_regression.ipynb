{
 "cells": [
  {
   "cell_type": "code",
   "execution_count": 1,
   "id": "0c272695",
   "metadata": {},
   "outputs": [],
   "source": [
    "import pandas as pd\n",
    "import numpy as np\n",
    "import statsmodels.api as sm\n",
    "import seaborn as sns\n",
    "import matplotlib.pyplot as plt\n",
    "import statsmodels.formula.api as smf\n",
    "from sklearn.metrics import mean_squared_error, mean_absolute_error, r2_score\n",
    "from sklearn.model_selection import train_test_split\n"
   ]
  },
  {
   "cell_type": "code",
   "execution_count": 2,
   "id": "31017ae9",
   "metadata": {},
   "outputs": [],
   "source": [
    "df = pd.read_csv('data/df_with_pca.csv')"
   ]
  },
  {
   "cell_type": "markdown",
   "id": "74678fd9",
   "metadata": {},
   "source": [
    "## Variabile dummy per Macroarea"
   ]
  },
  {
   "cell_type": "code",
   "execution_count": 3,
   "id": "a8aad957",
   "metadata": {},
   "outputs": [],
   "source": [
    "df = pd.get_dummies(df, columns=[\"Macroarea\"], drop_first=True)"
   ]
  },
  {
   "cell_type": "code",
   "execution_count": 13,
   "id": "84b80e07",
   "metadata": {},
   "outputs": [],
   "source": [
    "df = pd.get_dummies(df, columns=[\"Descrizione Tipologia di Immobile\"], drop_first=True)"
   ]
  },
  {
   "cell_type": "markdown",
   "id": "c85c2187",
   "metadata": {},
   "source": [
    "## Eliminazione colonna Circoscrizione Turistica"
   ]
  },
  {
   "cell_type": "code",
   "execution_count": 4,
   "id": "3f878af1",
   "metadata": {},
   "outputs": [],
   "source": [
    "df.drop(columns=[\"Circoscrizione Turistica\"], inplace=True)"
   ]
  },
  {
   "cell_type": "code",
   "execution_count": 5,
   "id": "55fabb7d",
   "metadata": {},
   "outputs": [
    {
     "name": "stdout",
     "output_type": "stream",
     "text": [
      "<class 'pandas.core.frame.DataFrame'>\n",
      "RangeIndex: 21513 entries, 0 to 21512\n",
      "Data columns (total 49 columns):\n",
      " #   Column                                                          Non-Null Count  Dtype  \n",
      "---  ------                                                          --------------  -----  \n",
      " 0   id_istat                                                        21513 non-null  int64  \n",
      " 1   id_comune                                                       21512 non-null  object \n",
      " 2   Provincia                                                       21513 non-null  object \n",
      " 3   Regione                                                         21513 non-null  object \n",
      " 4   Ripartizione Geografica                                         21513 non-null  object \n",
      " 5   id_catastale                                                    21513 non-null  object \n",
      " 6   Indice di spopolamento                                          21512 non-null  float64\n",
      " 7   Codice regione                                                  21513 non-null  int64  \n",
      " 8   Capoluogo_enc                                                   21513 non-null  int64  \n",
      " 9   Codice comuni                                                   21513 non-null  float64\n",
      " 10  Indice di occupazione                                           21512 non-null  float64\n",
      " 11  Indice disoccupazione                                           21508 non-null  float64\n",
      " 12  Fascia                                                          21513 non-null  object \n",
      " 13  Descrizione Zona                                                21513 non-null  object \n",
      " 14  Sottofascia Zona                                                21513 non-null  object \n",
      " 15  Descrizione Tipologia di Immobile                               21513 non-null  object \n",
      " 16  id_univoco                                                      21513 non-null  object \n",
      " 17  Costo Minimo alla Vendita                                       21513 non-null  float64\n",
      " 18  Costo Massimo alla Vendita                                      21513 non-null  float64\n",
      " 19  Media Costo alla Vendita                                        21513 non-null  int64  \n",
      " 20  Costo Minimo alla Locazione                                     21513 non-null  float64\n",
      " 21  Costo Massimo alla Locazione                                    21513 non-null  float64\n",
      " 22  Media Costo alla Locazione                                      21513 non-null  float64\n",
      " 23  Cod. Circoscrizione Turistica                                   20556 non-null  float64\n",
      " 24  Tipo di località_Altri comuni non altrimenti classificati       21513 non-null  bool   \n",
      " 25  Tipo di località_Capoluogo senza specifici interessi turistici  21513 non-null  bool   \n",
      " 26  Tipo di località_Città d'Arte                                   21513 non-null  bool   \n",
      " 27  Tipo di località_Località collinari                             21513 non-null  bool   \n",
      " 28  Tipo di località_Località lacuali                               21513 non-null  bool   \n",
      " 29  Tipo di località_Località marine                                21513 non-null  bool   \n",
      " 30  Tipo di località_Località montane                               21513 non-null  bool   \n",
      " 31  Tipo di località_Località religiose                             21513 non-null  bool   \n",
      " 32  Tipo di località_Località termali                               21513 non-null  bool   \n",
      " 33  PC_Economica                                                    21513 non-null  float64\n",
      " 34  PC_Turistica_1                                                  21513 non-null  float64\n",
      " 35  PC_Turistica_2                                                  21513 non-null  float64\n",
      " 36  PC_Turistica_3                                                  21513 non-null  float64\n",
      " 37  PC_Turistica_4                                                  21513 non-null  float64\n",
      " 38  PC_Turistica_5                                                  21513 non-null  float64\n",
      " 39  PC_Turistica_6                                                  21513 non-null  float64\n",
      " 40  PC_Turistica_7                                                  21513 non-null  float64\n",
      " 41  PC_Turistica_8                                                  21513 non-null  float64\n",
      " 42  PC_Turistica_9                                                  21513 non-null  float64\n",
      " 43  PC_Turistica_10                                                 21513 non-null  float64\n",
      " 44  PC_Turistica_11                                                 21513 non-null  float64\n",
      " 45  PC_Turistica_12                                                 21513 non-null  float64\n",
      " 46  Macroarea_Isole                                                 21513 non-null  bool   \n",
      " 47  Macroarea_Nord                                                  21513 non-null  bool   \n",
      " 48  Macroarea_Sud                                                   21513 non-null  bool   \n",
      "dtypes: bool(12), float64(23), int64(4), object(10)\n",
      "memory usage: 6.3+ MB\n"
     ]
    }
   ],
   "source": [
    "df.info()"
   ]
  },
  {
   "cell_type": "markdown",
   "id": "1c282c5e",
   "metadata": {},
   "source": [
    "Remember to convert the \"object\" variables into numeric so we can study relationships also in between these values"
   ]
  },
  {
   "cell_type": "code",
   "execution_count": 6,
   "id": "19b4b638",
   "metadata": {},
   "outputs": [
    {
     "name": "stdout",
     "output_type": "stream",
     "text": [
      "0        0\n",
      "1        0\n",
      "2        0\n",
      "3        0\n",
      "4        0\n",
      "        ..\n",
      "21508    0\n",
      "21509    0\n",
      "21510    0\n",
      "21511    0\n",
      "21512    0\n",
      "Name: Media Costo alla Vendita, Length: 21513, dtype: int64\n"
     ]
    }
   ],
   "source": [
    "# show me the \"Media Costo alla Vendita\" column\n",
    "print(df['Media Costo alla Vendita'])"
   ]
  },
  {
   "cell_type": "code",
   "execution_count": 7,
   "id": "6a0e1715",
   "metadata": {},
   "outputs": [],
   "source": [
    "# Split the data into training and test sets\n",
    "train, test = train_test_split(df, test_size=0.2, random_state=1)\n"
   ]
  },
  {
   "cell_type": "code",
   "execution_count": 8,
   "id": "08b72cea",
   "metadata": {},
   "outputs": [
    {
     "name": "stderr",
     "output_type": "stream",
     "text": [
      "c:\\Users\\Leonardo\\Desktop\\develhope\\projects\\real_estate_predictive_model\\leonardo.venv\\Lib\\site-packages\\statsmodels\\regression\\linear_model.py:1782: RuntimeWarning: invalid value encountered in scalar divide\n",
      "  return 1 - self.ssr/self.centered_tss\n",
      "c:\\Users\\Leonardo\\Desktop\\develhope\\projects\\real_estate_predictive_model\\leonardo.venv\\Lib\\site-packages\\statsmodels\\regression\\linear_model.py:1871: RuntimeWarning: invalid value encountered in scalar divide\n",
      "  return self.mse_model/self.mse_resid\n",
      "c:\\Users\\Leonardo\\Desktop\\develhope\\projects\\real_estate_predictive_model\\leonardo.venv\\Lib\\site-packages\\statsmodels\\regression\\linear_model.py:955: RuntimeWarning: divide by zero encountered in log\n",
      "  llf = -nobs2*np.log(2*np.pi) - nobs2*np.log(ssr / nobs) - nobs2\n",
      "c:\\Users\\Leonardo\\Desktop\\develhope\\projects\\real_estate_predictive_model\\leonardo.venv\\Lib\\site-packages\\statsmodels\\stats\\stattools.py:50: RuntimeWarning: invalid value encountered in scalar divide\n",
      "  dw = np.sum(diff_resids**2, axis=axis) / np.sum(resids**2, axis=axis)\n"
     ]
    },
    {
     "data": {
      "text/html": [
       "<table class=\"simpletable\">\n",
       "<caption>OLS Regression Results</caption>\n",
       "<tr>\n",
       "  <th>Dep. Variable:</th>    <td>Q(\"Media Costo alla Vendita\")</td> <th>  R-squared:         </th> <td>     nan</td>\n",
       "</tr>\n",
       "<tr>\n",
       "  <th>Model:</th>                         <td>OLS</td>              <th>  Adj. R-squared:    </th> <td>     nan</td>\n",
       "</tr>\n",
       "<tr>\n",
       "  <th>Method:</th>                   <td>Least Squares</td>         <th>  F-statistic:       </th> <td>     nan</td>\n",
       "</tr>\n",
       "<tr>\n",
       "  <th>Date:</th>                   <td>Wed, 07 May 2025</td>        <th>  Prob (F-statistic):</th>  <td>   nan</td> \n",
       "</tr>\n",
       "<tr>\n",
       "  <th>Time:</th>                       <td>11:07:26</td>            <th>  Log-Likelihood:    </th> <td>     inf</td>\n",
       "</tr>\n",
       "<tr>\n",
       "  <th>No. Observations:</th>            <td> 17209</td>             <th>  AIC:               </th> <td>    -inf</td>\n",
       "</tr>\n",
       "<tr>\n",
       "  <th>Df Residuals:</th>                <td> 17206</td>             <th>  BIC:               </th> <td>    -inf</td>\n",
       "</tr>\n",
       "<tr>\n",
       "  <th>Df Model:</th>                    <td>     2</td>             <th>                     </th>     <td> </td>   \n",
       "</tr>\n",
       "<tr>\n",
       "  <th>Covariance Type:</th>            <td>nonrobust</td>           <th>                     </th>     <td> </td>   \n",
       "</tr>\n",
       "</table>\n",
       "<table class=\"simpletable\">\n",
       "<tr>\n",
       "               <td></td>                 <th>coef</th>     <th>std err</th>      <th>t</th>      <th>P>|t|</th>  <th>[0.025</th>    <th>0.975]</th>  \n",
       "</tr>\n",
       "<tr>\n",
       "  <th>Intercept</th>                  <td>         0</td> <td>        0</td> <td>      nan</td> <td>   nan</td> <td>        0</td> <td>        0</td>\n",
       "</tr>\n",
       "<tr>\n",
       "  <th>Q(\"Indice di occupazione\")</th> <td>         0</td> <td>        0</td> <td>      nan</td> <td>   nan</td> <td>        0</td> <td>        0</td>\n",
       "</tr>\n",
       "<tr>\n",
       "  <th>PC_Economica</th>               <td>         0</td> <td>        0</td> <td>      nan</td> <td>   nan</td> <td>        0</td> <td>        0</td>\n",
       "</tr>\n",
       "</table>\n",
       "<table class=\"simpletable\">\n",
       "<tr>\n",
       "  <th>Omnibus:</th>       <td>   nan</td> <th>  Durbin-Watson:     </th> <td>     nan</td>\n",
       "</tr>\n",
       "<tr>\n",
       "  <th>Prob(Omnibus):</th> <td>   nan</td> <th>  Jarque-Bera (JB):  </th> <td>     nan</td>\n",
       "</tr>\n",
       "<tr>\n",
       "  <th>Skew:</th>          <td>   nan</td> <th>  Prob(JB):          </th> <td>     nan</td>\n",
       "</tr>\n",
       "<tr>\n",
       "  <th>Kurtosis:</th>      <td>   nan</td> <th>  Cond. No.          </th> <td>    300.</td>\n",
       "</tr>\n",
       "</table><br/><br/>Notes:<br/>[1] Standard Errors assume that the covariance matrix of the errors is correctly specified."
      ],
      "text/latex": [
       "\\begin{center}\n",
       "\\begin{tabular}{lclc}\n",
       "\\toprule\n",
       "\\textbf{Dep. Variable:}             & Q(\"Media Costo alla Vendita\") & \\textbf{  R-squared:         } &       nan   \\\\\n",
       "\\textbf{Model:}                     &              OLS              & \\textbf{  Adj. R-squared:    } &       nan   \\\\\n",
       "\\textbf{Method:}                    &         Least Squares         & \\textbf{  F-statistic:       } &       nan   \\\\\n",
       "\\textbf{Date:}                      &        Wed, 07 May 2025       & \\textbf{  Prob (F-statistic):} &      nan    \\\\\n",
       "\\textbf{Time:}                      &            11:07:26           & \\textbf{  Log-Likelihood:    } &       inf   \\\\\n",
       "\\textbf{No. Observations:}          &              17209            & \\textbf{  AIC:               } &      -inf   \\\\\n",
       "\\textbf{Df Residuals:}              &              17206            & \\textbf{  BIC:               } &      -inf   \\\\\n",
       "\\textbf{Df Model:}                  &                  2            & \\textbf{                     } &             \\\\\n",
       "\\textbf{Covariance Type:}           &           nonrobust           & \\textbf{                     } &             \\\\\n",
       "\\bottomrule\n",
       "\\end{tabular}\n",
       "\\begin{tabular}{lcccccc}\n",
       "                                    & \\textbf{coef} & \\textbf{std err} & \\textbf{t} & \\textbf{P$> |$t$|$} & \\textbf{[0.025} & \\textbf{0.975]}  \\\\\n",
       "\\midrule\n",
       "\\textbf{Intercept}                  &            0  &            0     &       nan  &           nan        &            0    &            0     \\\\\n",
       "\\textbf{Q(\"Indice di occupazione\")} &            0  &            0     &       nan  &           nan        &            0    &            0     \\\\\n",
       "\\textbf{PC\\_Economica}              &            0  &            0     &       nan  &           nan        &            0    &            0     \\\\\n",
       "\\bottomrule\n",
       "\\end{tabular}\n",
       "\\begin{tabular}{lclc}\n",
       "\\textbf{Omnibus:}       &    nan & \\textbf{  Durbin-Watson:     } &      nan  \\\\\n",
       "\\textbf{Prob(Omnibus):} &    nan & \\textbf{  Jarque-Bera (JB):  } &      nan  \\\\\n",
       "\\textbf{Skew:}          &    nan & \\textbf{  Prob(JB):          } &      nan  \\\\\n",
       "\\textbf{Kurtosis:}      &    nan & \\textbf{  Cond. No.          } &     300.  \\\\\n",
       "\\bottomrule\n",
       "\\end{tabular}\n",
       "%\\caption{OLS Regression Results}\n",
       "\\end{center}\n",
       "\n",
       "Notes: \\newline\n",
       " [1] Standard Errors assume that the covariance matrix of the errors is correctly specified."
      ],
      "text/plain": [
       "<class 'statsmodels.iolib.summary.Summary'>\n",
       "\"\"\"\n",
       "                                  OLS Regression Results                                 \n",
       "=========================================================================================\n",
       "Dep. Variable:     Q(\"Media Costo alla Vendita\")   R-squared:                         nan\n",
       "Model:                                       OLS   Adj. R-squared:                    nan\n",
       "Method:                            Least Squares   F-statistic:                       nan\n",
       "Date:                           Wed, 07 May 2025   Prob (F-statistic):                nan\n",
       "Time:                                   11:07:26   Log-Likelihood:                    inf\n",
       "No. Observations:                          17209   AIC:                              -inf\n",
       "Df Residuals:                              17206   BIC:                              -inf\n",
       "Df Model:                                      2                                         \n",
       "Covariance Type:                       nonrobust                                         \n",
       "==============================================================================================\n",
       "                                 coef    std err          t      P>|t|      [0.025      0.975]\n",
       "----------------------------------------------------------------------------------------------\n",
       "Intercept                           0          0        nan        nan           0           0\n",
       "Q(\"Indice di occupazione\")          0          0        nan        nan           0           0\n",
       "PC_Economica                        0          0        nan        nan           0           0\n",
       "==============================================================================\n",
       "Omnibus:                          nan   Durbin-Watson:                     nan\n",
       "Prob(Omnibus):                    nan   Jarque-Bera (JB):                  nan\n",
       "Skew:                             nan   Prob(JB):                          nan\n",
       "Kurtosis:                         nan   Cond. No.                         300.\n",
       "==============================================================================\n",
       "\n",
       "Notes:\n",
       "[1] Standard Errors assume that the covariance matrix of the errors is correctly specified.\n",
       "\"\"\""
      ]
     },
     "execution_count": 8,
     "metadata": {},
     "output_type": "execute_result"
    }
   ],
   "source": [
    "# Parameters estimation with statsmodels\n",
    "model1 = smf.ols('Q(\"Media Costo alla Vendita\") ~ Q(\"Indice di occupazione\") + PC_Economica', train).fit()\n",
    "model1.summary()\n"
   ]
  },
  {
   "cell_type": "code",
   "execution_count": 9,
   "id": "7f2476c8",
   "metadata": {},
   "outputs": [
    {
     "data": {
      "text/html": [
       "<table class=\"simpletable\">\n",
       "<caption>OLS Regression Results</caption>\n",
       "<tr>\n",
       "  <th>Dep. Variable:</th>    <td>Q(\"Media Costo alla Locazione\")</td> <th>  R-squared:         </th> <td>   0.281</td> \n",
       "</tr>\n",
       "<tr>\n",
       "  <th>Model:</th>                          <td>OLS</td>               <th>  Adj. R-squared:    </th> <td>   0.280</td> \n",
       "</tr>\n",
       "<tr>\n",
       "  <th>Method:</th>                    <td>Least Squares</td>          <th>  F-statistic:       </th> <td>   838.7</td> \n",
       "</tr>\n",
       "<tr>\n",
       "  <th>Date:</th>                    <td>Wed, 07 May 2025</td>         <th>  Prob (F-statistic):</th>  <td>  0.00</td>  \n",
       "</tr>\n",
       "<tr>\n",
       "  <th>Time:</th>                        <td>11:07:27</td>             <th>  Log-Likelihood:    </th> <td> -40284.</td> \n",
       "</tr>\n",
       "<tr>\n",
       "  <th>No. Observations:</th>             <td> 17210</td>              <th>  AIC:               </th> <td>8.059e+04</td>\n",
       "</tr>\n",
       "<tr>\n",
       "  <th>Df Residuals:</th>                 <td> 17201</td>              <th>  BIC:               </th> <td>8.065e+04</td>\n",
       "</tr>\n",
       "<tr>\n",
       "  <th>Df Model:</th>                     <td>     8</td>              <th>                     </th>     <td> </td>    \n",
       "</tr>\n",
       "<tr>\n",
       "  <th>Covariance Type:</th>             <td>nonrobust</td>            <th>                     </th>     <td> </td>    \n",
       "</tr>\n",
       "</table>\n",
       "<table class=\"simpletable\">\n",
       "<tr>\n",
       "         <td></td>           <th>coef</th>     <th>std err</th>      <th>t</th>      <th>P>|t|</th>  <th>[0.025</th>    <th>0.975]</th>  \n",
       "</tr>\n",
       "<tr>\n",
       "  <th>Intercept</th>      <td>    4.0281</td> <td>    0.019</td> <td>  210.144</td> <td> 0.000</td> <td>    3.991</td> <td>    4.066</td>\n",
       "</tr>\n",
       "<tr>\n",
       "  <th>PC_Turistica_1</th> <td>    0.4410</td> <td>    0.006</td> <td>   76.763</td> <td> 0.000</td> <td>    0.430</td> <td>    0.452</td>\n",
       "</tr>\n",
       "<tr>\n",
       "  <th>PC_Turistica_2</th> <td>    0.0363</td> <td>    0.007</td> <td>    5.054</td> <td> 0.000</td> <td>    0.022</td> <td>    0.050</td>\n",
       "</tr>\n",
       "<tr>\n",
       "  <th>PC_Turistica_3</th> <td>    0.1990</td> <td>    0.009</td> <td>   22.213</td> <td> 0.000</td> <td>    0.181</td> <td>    0.217</td>\n",
       "</tr>\n",
       "<tr>\n",
       "  <th>PC_Turistica_4</th> <td>    0.1337</td> <td>    0.011</td> <td>   12.057</td> <td> 0.000</td> <td>    0.112</td> <td>    0.155</td>\n",
       "</tr>\n",
       "<tr>\n",
       "  <th>PC_Turistica_5</th> <td>   -0.0744</td> <td>    0.013</td> <td>   -5.857</td> <td> 0.000</td> <td>   -0.099</td> <td>   -0.049</td>\n",
       "</tr>\n",
       "<tr>\n",
       "  <th>PC_Turistica_6</th> <td>   -0.0027</td> <td>    0.014</td> <td>   -0.194</td> <td> 0.847</td> <td>   -0.031</td> <td>    0.025</td>\n",
       "</tr>\n",
       "<tr>\n",
       "  <th>PC_Turistica_7</th> <td>    0.0984</td> <td>    0.015</td> <td>    6.553</td> <td> 0.000</td> <td>    0.069</td> <td>    0.128</td>\n",
       "</tr>\n",
       "<tr>\n",
       "  <th>PC_Turistica_8</th> <td>    0.0159</td> <td>    0.016</td> <td>    1.014</td> <td> 0.311</td> <td>   -0.015</td> <td>    0.047</td>\n",
       "</tr>\n",
       "</table>\n",
       "<table class=\"simpletable\">\n",
       "<tr>\n",
       "  <th>Omnibus:</th>       <td>6000.372</td> <th>  Durbin-Watson:     </th>  <td>   2.022</td> \n",
       "</tr>\n",
       "<tr>\n",
       "  <th>Prob(Omnibus):</th>  <td> 0.000</td>  <th>  Jarque-Bera (JB):  </th> <td>111945.222</td>\n",
       "</tr>\n",
       "<tr>\n",
       "  <th>Skew:</th>           <td> 1.199</td>  <th>  Prob(JB):          </th>  <td>    0.00</td> \n",
       "</tr>\n",
       "<tr>\n",
       "  <th>Kurtosis:</th>       <td>15.262</td>  <th>  Cond. No.          </th>  <td>    3.34</td> \n",
       "</tr>\n",
       "</table><br/><br/>Notes:<br/>[1] Standard Errors assume that the covariance matrix of the errors is correctly specified."
      ],
      "text/latex": [
       "\\begin{center}\n",
       "\\begin{tabular}{lclc}\n",
       "\\toprule\n",
       "\\textbf{Dep. Variable:}    & Q(\"Media Costo alla Locazione\") & \\textbf{  R-squared:         } &     0.281   \\\\\n",
       "\\textbf{Model:}            &               OLS               & \\textbf{  Adj. R-squared:    } &     0.280   \\\\\n",
       "\\textbf{Method:}           &          Least Squares          & \\textbf{  F-statistic:       } &     838.7   \\\\\n",
       "\\textbf{Date:}             &         Wed, 07 May 2025        & \\textbf{  Prob (F-statistic):} &     0.00    \\\\\n",
       "\\textbf{Time:}             &             11:07:27            & \\textbf{  Log-Likelihood:    } &   -40284.   \\\\\n",
       "\\textbf{No. Observations:} &               17210             & \\textbf{  AIC:               } & 8.059e+04   \\\\\n",
       "\\textbf{Df Residuals:}     &               17201             & \\textbf{  BIC:               } & 8.065e+04   \\\\\n",
       "\\textbf{Df Model:}         &                   8             & \\textbf{                     } &             \\\\\n",
       "\\textbf{Covariance Type:}  &            nonrobust            & \\textbf{                     } &             \\\\\n",
       "\\bottomrule\n",
       "\\end{tabular}\n",
       "\\begin{tabular}{lcccccc}\n",
       "                          & \\textbf{coef} & \\textbf{std err} & \\textbf{t} & \\textbf{P$> |$t$|$} & \\textbf{[0.025} & \\textbf{0.975]}  \\\\\n",
       "\\midrule\n",
       "\\textbf{Intercept}        &       4.0281  &        0.019     &   210.144  &         0.000        &        3.991    &        4.066     \\\\\n",
       "\\textbf{PC\\_Turistica\\_1} &       0.4410  &        0.006     &    76.763  &         0.000        &        0.430    &        0.452     \\\\\n",
       "\\textbf{PC\\_Turistica\\_2} &       0.0363  &        0.007     &     5.054  &         0.000        &        0.022    &        0.050     \\\\\n",
       "\\textbf{PC\\_Turistica\\_3} &       0.1990  &        0.009     &    22.213  &         0.000        &        0.181    &        0.217     \\\\\n",
       "\\textbf{PC\\_Turistica\\_4} &       0.1337  &        0.011     &    12.057  &         0.000        &        0.112    &        0.155     \\\\\n",
       "\\textbf{PC\\_Turistica\\_5} &      -0.0744  &        0.013     &    -5.857  &         0.000        &       -0.099    &       -0.049     \\\\\n",
       "\\textbf{PC\\_Turistica\\_6} &      -0.0027  &        0.014     &    -0.194  &         0.847        &       -0.031    &        0.025     \\\\\n",
       "\\textbf{PC\\_Turistica\\_7} &       0.0984  &        0.015     &     6.553  &         0.000        &        0.069    &        0.128     \\\\\n",
       "\\textbf{PC\\_Turistica\\_8} &       0.0159  &        0.016     &     1.014  &         0.311        &       -0.015    &        0.047     \\\\\n",
       "\\bottomrule\n",
       "\\end{tabular}\n",
       "\\begin{tabular}{lclc}\n",
       "\\textbf{Omnibus:}       & 6000.372 & \\textbf{  Durbin-Watson:     } &     2.022   \\\\\n",
       "\\textbf{Prob(Omnibus):} &   0.000  & \\textbf{  Jarque-Bera (JB):  } & 111945.222  \\\\\n",
       "\\textbf{Skew:}          &   1.199  & \\textbf{  Prob(JB):          } &      0.00   \\\\\n",
       "\\textbf{Kurtosis:}      &  15.262  & \\textbf{  Cond. No.          } &      3.34   \\\\\n",
       "\\bottomrule\n",
       "\\end{tabular}\n",
       "%\\caption{OLS Regression Results}\n",
       "\\end{center}\n",
       "\n",
       "Notes: \\newline\n",
       " [1] Standard Errors assume that the covariance matrix of the errors is correctly specified."
      ],
      "text/plain": [
       "<class 'statsmodels.iolib.summary.Summary'>\n",
       "\"\"\"\n",
       "                                   OLS Regression Results                                  \n",
       "===========================================================================================\n",
       "Dep. Variable:     Q(\"Media Costo alla Locazione\")   R-squared:                       0.281\n",
       "Model:                                         OLS   Adj. R-squared:                  0.280\n",
       "Method:                              Least Squares   F-statistic:                     838.7\n",
       "Date:                             Wed, 07 May 2025   Prob (F-statistic):               0.00\n",
       "Time:                                     11:07:27   Log-Likelihood:                -40284.\n",
       "No. Observations:                            17210   AIC:                         8.059e+04\n",
       "Df Residuals:                                17201   BIC:                         8.065e+04\n",
       "Df Model:                                        8                                         \n",
       "Covariance Type:                         nonrobust                                         \n",
       "==================================================================================\n",
       "                     coef    std err          t      P>|t|      [0.025      0.975]\n",
       "----------------------------------------------------------------------------------\n",
       "Intercept          4.0281      0.019    210.144      0.000       3.991       4.066\n",
       "PC_Turistica_1     0.4410      0.006     76.763      0.000       0.430       0.452\n",
       "PC_Turistica_2     0.0363      0.007      5.054      0.000       0.022       0.050\n",
       "PC_Turistica_3     0.1990      0.009     22.213      0.000       0.181       0.217\n",
       "PC_Turistica_4     0.1337      0.011     12.057      0.000       0.112       0.155\n",
       "PC_Turistica_5    -0.0744      0.013     -5.857      0.000      -0.099      -0.049\n",
       "PC_Turistica_6    -0.0027      0.014     -0.194      0.847      -0.031       0.025\n",
       "PC_Turistica_7     0.0984      0.015      6.553      0.000       0.069       0.128\n",
       "PC_Turistica_8     0.0159      0.016      1.014      0.311      -0.015       0.047\n",
       "==============================================================================\n",
       "Omnibus:                     6000.372   Durbin-Watson:                   2.022\n",
       "Prob(Omnibus):                  0.000   Jarque-Bera (JB):           111945.222\n",
       "Skew:                           1.199   Prob(JB):                         0.00\n",
       "Kurtosis:                      15.262   Cond. No.                         3.34\n",
       "==============================================================================\n",
       "\n",
       "Notes:\n",
       "[1] Standard Errors assume that the covariance matrix of the errors is correctly specified.\n",
       "\"\"\""
      ]
     },
     "execution_count": 9,
     "metadata": {},
     "output_type": "execute_result"
    }
   ],
   "source": [
    "# Parameters estimation with statsmodels\n",
    "model1 = smf.ols('Q(\"Media Costo alla Locazione\") ~ PC_Turistica_1 + PC_Turistica_2 + PC_Turistica_3 + PC_Turistica_4 + PC_Turistica_5 + PC_Turistica_6 + PC_Turistica_7 + PC_Turistica_8', train).fit()\n",
    "model1.summary()\n"
   ]
  },
  {
   "cell_type": "code",
   "execution_count": 14,
   "id": "ea70e640",
   "metadata": {},
   "outputs": [
    {
     "data": {
      "text/plain": [
       "Index(['id_istat', 'id_comune', 'Provincia', 'Regione',\n",
       "       'Ripartizione Geografica', 'id_catastale', 'Indice di spopolamento',\n",
       "       'Codice regione', 'Capoluogo_enc', 'Codice comuni',\n",
       "       'Indice di occupazione', 'Indice disoccupazione', 'Fascia',\n",
       "       'Descrizione Zona', 'Sottofascia Zona', 'id_univoco',\n",
       "       'Costo Minimo alla Vendita', 'Costo Massimo alla Vendita',\n",
       "       'Media Costo alla Vendita', 'Costo Minimo alla Locazione',\n",
       "       'Costo Massimo alla Locazione', 'Media Costo alla Locazione',\n",
       "       'Cod. Circoscrizione Turistica',\n",
       "       'Tipo di località_Altri comuni non altrimenti classificati',\n",
       "       'Tipo di località_Capoluogo senza specifici interessi turistici',\n",
       "       'Tipo di località_Città d'Arte', 'Tipo di località_Località collinari',\n",
       "       'Tipo di località_Località lacuali', 'Tipo di località_Località marine',\n",
       "       'Tipo di località_Località montane',\n",
       "       'Tipo di località_Località religiose',\n",
       "       'Tipo di località_Località termali', 'PC_Economica', 'PC_Turistica_1',\n",
       "       'PC_Turistica_2', 'PC_Turistica_3', 'PC_Turistica_4', 'PC_Turistica_5',\n",
       "       'PC_Turistica_6', 'PC_Turistica_7', 'PC_Turistica_8', 'PC_Turistica_9',\n",
       "       'PC_Turistica_10', 'PC_Turistica_11', 'PC_Turistica_12',\n",
       "       'Macroarea_Isole', 'Macroarea_Nord', 'Macroarea_Sud',\n",
       "       'Descrizione Tipologia di Immobile_Abitazioni di tipo economico',\n",
       "       'Descrizione Tipologia di Immobile_Abitazioni signorili',\n",
       "       'Descrizione Tipologia di Immobile_Abitazioni tipiche dei luoghi',\n",
       "       'Descrizione Tipologia di Immobile_Ville e Villini'],\n",
       "      dtype='object')"
      ]
     },
     "execution_count": 14,
     "metadata": {},
     "output_type": "execute_result"
    }
   ],
   "source": [
    "df.columns"
   ]
  },
  {
   "cell_type": "code",
   "execution_count": 21,
   "id": "04475078",
   "metadata": {},
   "outputs": [
    {
     "data": {
      "text/plain": [
       "Index(['id_istat', 'id_comune', 'Provincia', 'Regione',\n",
       "       'Ripartizione Geografica', 'id_catastale', 'Indice di spopolamento',\n",
       "       'Codice regione', 'Capoluogo_enc', 'Codice comuni',\n",
       "       'Indice di occupazione', 'Indice disoccupazione', 'Fascia',\n",
       "       'Descrizione Zona', 'Sottofascia Zona', 'id_univoco',\n",
       "       'Costo Minimo alla Vendita', 'Costo Massimo alla Vendita',\n",
       "       'Media Costo alla Vendita', 'Costo Minimo alla Locazione',\n",
       "       'Costo Massimo alla Locazione', 'Media Costo alla Locazione',\n",
       "       'Cod. Circoscrizione Turistica',\n",
       "       'Tipo di località_Altri comuni non altrimenti classificati',\n",
       "       'Tipo di località_Capoluogo senza specifici interessi turistici',\n",
       "       'Tipo di località_Città d'Arte', 'Tipo di località_Località collinari',\n",
       "       'Tipo di località_Località lacuali', 'Tipo di località_Località marine',\n",
       "       'Tipo di località_Località montane',\n",
       "       'Tipo di località_Località religiose',\n",
       "       'Tipo di località_Località termali', 'PC_Economica', 'PC_Turistica_1',\n",
       "       'PC_Turistica_2', 'PC_Turistica_3', 'PC_Turistica_4', 'PC_Turistica_5',\n",
       "       'PC_Turistica_6', 'PC_Turistica_7', 'PC_Turistica_8', 'PC_Turistica_9',\n",
       "       'PC_Turistica_10', 'PC_Turistica_11', 'PC_Turistica_12',\n",
       "       'Macroarea_Isole', 'Macroarea_Nord', 'Macroarea_Sud',\n",
       "       'Descrizione Tipologia di Immobile_Abitazioni di tipo economico',\n",
       "       'Descrizione Tipologia di Immobile_Abitazioni signorili',\n",
       "       'Descrizione Tipologia di Immobile_Abitazioni tipiche dei luoghi',\n",
       "       'Descrizione Tipologia di Immobile_Ville e Villini'],\n",
       "      dtype='object')"
      ]
     },
     "execution_count": 21,
     "metadata": {},
     "output_type": "execute_result"
    }
   ],
   "source": [
    "df.columns\n"
   ]
  },
  {
   "cell_type": "code",
   "execution_count": null,
   "id": "9c367818",
   "metadata": {},
   "outputs": [
    {
     "name": "stdout",
     "output_type": "stream",
     "text": [
      "['id_istat', 'id_comune', 'Provincia', 'Regione', 'Ripartizione Geografica', 'id_catastale', 'Indice di spopolamento', 'Codice regione', 'Capoluogo_enc', 'Codice comuni', 'Indice di occupazione', 'Indice disoccupazione', 'Fascia', 'Descrizione Zona', 'Sottofascia Zona', 'id_univoco', 'Costo Minimo alla Vendita', 'Costo Massimo alla Vendita', 'Media Costo alla Vendita', 'Costo Minimo alla Locazione', 'Costo Massimo alla Locazione', 'Media Costo alla Locazione', 'Cod. Circoscrizione Turistica', 'Tipo di località_Altri comuni non altrimenti classificati', 'Tipo di località_Capoluogo senza specifici interessi turistici', \"Tipo di località_Città d'Arte\", 'Tipo di località_Località collinari', 'Tipo di località_Località lacuali', 'Tipo di località_Località marine', 'Tipo di località_Località montane', 'Tipo di località_Località religiose', 'Tipo di località_Località termali', 'PC_Economica', 'PC_Turistica_1', 'PC_Turistica_2', 'PC_Turistica_3', 'PC_Turistica_4', 'PC_Turistica_5', 'PC_Turistica_6', 'PC_Turistica_7', 'PC_Turistica_8', 'PC_Turistica_9', 'PC_Turistica_10', 'PC_Turistica_11', 'PC_Turistica_12', 'Macroarea_Isole', 'Macroarea_Nord', 'Macroarea_Sud', 'Descrizione Tipologia di Immobile_Abitazioni di tipo economico', 'Descrizione Tipologia di Immobile_Abitazioni signorili', 'Descrizione Tipologia di Immobile_Abitazioni tipiche dei luoghi', 'Descrizione Tipologia di Immobile_Ville e Villini']\n"
     ]
    }
   ],
   "source": [
    "print(df.columns.tolist())"
   ]
  },
  {
   "cell_type": "code",
   "execution_count": 34,
   "id": "5e05202f",
   "metadata": {},
   "outputs": [],
   "source": [
    "df.rename(columns={\"Descrizione Tipologia di Immobile_Abitazioni di tipo economico\": \"Descrizione_Tipologia_di_Immobile_Abitazioni_di_tipo_economico\"}, inplace=True)\n",
    "df.rename(columns={\"Descrizione Tipologia di Immobile_Abitazioni signorili\" : \"Descrizione_Tipologia_di_Immobile_Abitazioni_signorili\"}, inplace=True)\n",
    "df.rename(columns={\"Descrizione Tipologia di Immobile_Abitazioni tipiche dei luoghi\": \"Descrizione_Tipologia_di_Immobile_Abitazioni_tipiche_dei_luoghi\"}, inplace=True)\n",
    "df.rename(columns={\"Descrizione Tipologia di Immobile_Ville e Villini\": \"Descrizione_Tipologia_di_Immobile_Ville_e_Villini\"}, inplace=True)"
   ]
  },
  {
   "cell_type": "code",
   "execution_count": 38,
   "id": "0505760a",
   "metadata": {},
   "outputs": [
    {
     "ename": "PatsyError",
     "evalue": "Error evaluating factor: NameError: name 'Descrizione_Tipologia_di_Immobile_Abitazioni_di_tipo_economico' is not defined\n    Q(\"Costo Minimo alla Vendita\") ~ Q(\"Indice di spopolamento\") + Q(\"Indice di occupazione\") + Q(\"Indice disoccupazione\") + Q(\"Tipo di località_Altri comuni non altrimenti classificati\") + Q(\"Tipo di località_Capoluogo senza specifici interessi turistici\") + Q(\"Tipo di località_Città d'Arte\") + Q(\"Tipo di località_Località collinari\") + Q(\"Tipo di località_Località lacuali\") + Q(\"Tipo di località_Località marine\") + Q(\"Tipo di località_Località montane\") + Q(\"Tipo di località_Località religiose\") + Q(\"Tipo di località_Località termali\") + PC_Economica + PC_Turistica_1 + PC_Turistica_2 + PC_Turistica_3 + PC_Turistica_4 + PC_Turistica_5 + PC_Turistica_6 + PC_Turistica_7 + PC_Turistica_8 + PC_Turistica_9 + PC_Turistica_10 + PC_Turistica_11 + PC_Turistica_12 + Macroarea_Isole + Macroarea_Nord + Macroarea_Sud + Descrizione_Tipologia_di_Immobile_Abitazioni_di_tipo_economico + Descrizione_Tipologia_di_Immobile_Abitazioni_signorili + Descrizione_Tipologia_di_Immobile_Abitazioni_tipiche_dei_luoghi + Descrizione_Tipologia_di_Immobile_Ville_e_Villini\n                                                                                                                                                                                                                                                                                                                                                                                                                                                                                                                                                                                                                                                                                                                                                                                                                                                   ^^^^^^^^^^^^^^^^^^^^^^^^^^^^^^^^^^^^^^^^^^^^^^^^^^^^^^^^^^^^^^",
     "output_type": "error",
     "traceback": [
      "\u001b[1;31m---------------------------------------------------------------------------\u001b[0m",
      "\u001b[1;31mNameError\u001b[0m                                 Traceback (most recent call last)",
      "File \u001b[1;32mc:\\Users\\Leonardo\\Desktop\\develhope\\projects\\real_estate_predictive_model\\leonardo.venv\\Lib\\site-packages\\patsy\\compat.py:40\u001b[0m, in \u001b[0;36mcall_and_wrap_exc\u001b[1;34m(msg, origin, f, *args, **kwargs)\u001b[0m\n\u001b[0;32m     39\u001b[0m \u001b[38;5;28;01mtry\u001b[39;00m:\n\u001b[1;32m---> 40\u001b[0m     \u001b[38;5;28;01mreturn\u001b[39;00m \u001b[43mf\u001b[49m\u001b[43m(\u001b[49m\u001b[38;5;241;43m*\u001b[39;49m\u001b[43margs\u001b[49m\u001b[43m,\u001b[49m\u001b[43m \u001b[49m\u001b[38;5;241;43m*\u001b[39;49m\u001b[38;5;241;43m*\u001b[39;49m\u001b[43mkwargs\u001b[49m\u001b[43m)\u001b[49m\n\u001b[0;32m     41\u001b[0m \u001b[38;5;28;01mexcept\u001b[39;00m \u001b[38;5;167;01mException\u001b[39;00m \u001b[38;5;28;01mas\u001b[39;00m e:\n",
      "File \u001b[1;32mc:\\Users\\Leonardo\\Desktop\\develhope\\projects\\real_estate_predictive_model\\leonardo.venv\\Lib\\site-packages\\patsy\\eval.py:179\u001b[0m, in \u001b[0;36mEvalEnvironment.eval\u001b[1;34m(self, expr, source_name, inner_namespace)\u001b[0m\n\u001b[0;32m    178\u001b[0m code \u001b[38;5;241m=\u001b[39m \u001b[38;5;28mcompile\u001b[39m(expr, source_name, \u001b[38;5;124m\"\u001b[39m\u001b[38;5;124meval\u001b[39m\u001b[38;5;124m\"\u001b[39m, \u001b[38;5;28mself\u001b[39m\u001b[38;5;241m.\u001b[39mflags, \u001b[38;5;28;01mFalse\u001b[39;00m)\n\u001b[1;32m--> 179\u001b[0m \u001b[38;5;28;01mreturn\u001b[39;00m \u001b[38;5;28;43meval\u001b[39;49m\u001b[43m(\u001b[49m\u001b[43mcode\u001b[49m\u001b[43m,\u001b[49m\u001b[43m \u001b[49m\u001b[43m{\u001b[49m\u001b[43m}\u001b[49m\u001b[43m,\u001b[49m\u001b[43m \u001b[49m\u001b[43mVarLookupDict\u001b[49m\u001b[43m(\u001b[49m\u001b[43m[\u001b[49m\u001b[43minner_namespace\u001b[49m\u001b[43m]\u001b[49m\u001b[43m \u001b[49m\u001b[38;5;241;43m+\u001b[39;49m\u001b[43m \u001b[49m\u001b[38;5;28;43mself\u001b[39;49m\u001b[38;5;241;43m.\u001b[39;49m\u001b[43m_namespaces\u001b[49m\u001b[43m)\u001b[49m\u001b[43m)\u001b[49m\n",
      "File \u001b[1;32m<string>:1\u001b[0m\n",
      "\u001b[1;31mNameError\u001b[0m: name 'Descrizione_Tipologia_di_Immobile_Abitazioni_di_tipo_economico' is not defined",
      "\nThe above exception was the direct cause of the following exception:\n",
      "\u001b[1;31mPatsyError\u001b[0m                                Traceback (most recent call last)",
      "Cell \u001b[1;32mIn[38], line 2\u001b[0m\n\u001b[0;32m      1\u001b[0m \u001b[38;5;66;03m# Parameters estimation with statsmodels\u001b[39;00m\n\u001b[1;32m----> 2\u001b[0m model1 \u001b[38;5;241m=\u001b[39m \u001b[43msmf\u001b[49m\u001b[38;5;241;43m.\u001b[39;49m\u001b[43mols\u001b[49m\u001b[43m(\u001b[49m\u001b[38;5;124;43m'\u001b[39;49m\u001b[38;5;124;43mQ(\u001b[39;49m\u001b[38;5;124;43m\"\u001b[39;49m\u001b[38;5;124;43mCosto Minimo alla Vendita\u001b[39;49m\u001b[38;5;124;43m\"\u001b[39;49m\u001b[38;5;124;43m) ~ Q(\u001b[39;49m\u001b[38;5;124;43m\"\u001b[39;49m\u001b[38;5;124;43mIndice di spopolamento\u001b[39;49m\u001b[38;5;124;43m\"\u001b[39;49m\u001b[38;5;124;43m) + Q(\u001b[39;49m\u001b[38;5;124;43m\"\u001b[39;49m\u001b[38;5;124;43mIndice di occupazione\u001b[39;49m\u001b[38;5;124;43m\"\u001b[39;49m\u001b[38;5;124;43m) + Q(\u001b[39;49m\u001b[38;5;124;43m\"\u001b[39;49m\u001b[38;5;124;43mIndice disoccupazione\u001b[39;49m\u001b[38;5;124;43m\"\u001b[39;49m\u001b[38;5;124;43m) + Q(\u001b[39;49m\u001b[38;5;124;43m\"\u001b[39;49m\u001b[38;5;124;43mTipo di località_Altri comuni non altrimenti classificati\u001b[39;49m\u001b[38;5;124;43m\"\u001b[39;49m\u001b[38;5;124;43m) + Q(\u001b[39;49m\u001b[38;5;124;43m\"\u001b[39;49m\u001b[38;5;124;43mTipo di località_Capoluogo senza specifici interessi turistici\u001b[39;49m\u001b[38;5;124;43m\"\u001b[39;49m\u001b[38;5;124;43m) + Q(\u001b[39;49m\u001b[38;5;124;43m\"\u001b[39;49m\u001b[38;5;124;43mTipo di località_Città d\u001b[39;49m\u001b[38;5;130;43;01m\\'\u001b[39;49;00m\u001b[38;5;124;43mArte\u001b[39;49m\u001b[38;5;124;43m\"\u001b[39;49m\u001b[38;5;124;43m) + Q(\u001b[39;49m\u001b[38;5;124;43m\"\u001b[39;49m\u001b[38;5;124;43mTipo di località_Località collinari\u001b[39;49m\u001b[38;5;124;43m\"\u001b[39;49m\u001b[38;5;124;43m) + Q(\u001b[39;49m\u001b[38;5;124;43m\"\u001b[39;49m\u001b[38;5;124;43mTipo di località_Località lacuali\u001b[39;49m\u001b[38;5;124;43m\"\u001b[39;49m\u001b[38;5;124;43m) + Q(\u001b[39;49m\u001b[38;5;124;43m\"\u001b[39;49m\u001b[38;5;124;43mTipo di località_Località marine\u001b[39;49m\u001b[38;5;124;43m\"\u001b[39;49m\u001b[38;5;124;43m) + Q(\u001b[39;49m\u001b[38;5;124;43m\"\u001b[39;49m\u001b[38;5;124;43mTipo di località_Località montane\u001b[39;49m\u001b[38;5;124;43m\"\u001b[39;49m\u001b[38;5;124;43m) + Q(\u001b[39;49m\u001b[38;5;124;43m\"\u001b[39;49m\u001b[38;5;124;43mTipo di località_Località religiose\u001b[39;49m\u001b[38;5;124;43m\"\u001b[39;49m\u001b[38;5;124;43m) + Q(\u001b[39;49m\u001b[38;5;124;43m\"\u001b[39;49m\u001b[38;5;124;43mTipo di località_Località termali\u001b[39;49m\u001b[38;5;124;43m\"\u001b[39;49m\u001b[38;5;124;43m) + PC_Economica + PC_Turistica_1 + PC_Turistica_2 + PC_Turistica_3 + PC_Turistica_4 + PC_Turistica_5 + PC_Turistica_6 + PC_Turistica_7 + PC_Turistica_8 + PC_Turistica_9 + PC_Turistica_10 + PC_Turistica_11 + PC_Turistica_12 + Macroarea_Isole + Macroarea_Nord + Macroarea_Sud + Descrizione_Tipologia_di_Immobile_Abitazioni_di_tipo_economico + Descrizione_Tipologia_di_Immobile_Abitazioni_signorili + Descrizione_Tipologia_di_Immobile_Abitazioni_tipiche_dei_luoghi + Descrizione_Tipologia_di_Immobile_Ville_e_Villini\u001b[39;49m\u001b[38;5;124;43m'\u001b[39;49m\u001b[43m,\u001b[49m\u001b[43m \u001b[49m\u001b[43mdata\u001b[49m\u001b[38;5;241;43m=\u001b[39;49m\u001b[43mtrain\u001b[49m\u001b[43m)\u001b[49m\u001b[38;5;241m.\u001b[39mfit()\n\u001b[0;32m      3\u001b[0m model1\u001b[38;5;241m.\u001b[39msummary()\n",
      "File \u001b[1;32mc:\\Users\\Leonardo\\Desktop\\develhope\\projects\\real_estate_predictive_model\\leonardo.venv\\Lib\\site-packages\\statsmodels\\base\\model.py:203\u001b[0m, in \u001b[0;36mModel.from_formula\u001b[1;34m(cls, formula, data, subset, drop_cols, *args, **kwargs)\u001b[0m\n\u001b[0;32m    200\u001b[0m \u001b[38;5;28;01mif\u001b[39;00m missing \u001b[38;5;241m==\u001b[39m \u001b[38;5;124m'\u001b[39m\u001b[38;5;124mnone\u001b[39m\u001b[38;5;124m'\u001b[39m:  \u001b[38;5;66;03m# with patsy it's drop or raise. let's raise.\u001b[39;00m\n\u001b[0;32m    201\u001b[0m     missing \u001b[38;5;241m=\u001b[39m \u001b[38;5;124m'\u001b[39m\u001b[38;5;124mraise\u001b[39m\u001b[38;5;124m'\u001b[39m\n\u001b[1;32m--> 203\u001b[0m tmp \u001b[38;5;241m=\u001b[39m \u001b[43mhandle_formula_data\u001b[49m\u001b[43m(\u001b[49m\u001b[43mdata\u001b[49m\u001b[43m,\u001b[49m\u001b[43m \u001b[49m\u001b[38;5;28;43;01mNone\u001b[39;49;00m\u001b[43m,\u001b[49m\u001b[43m \u001b[49m\u001b[43mformula\u001b[49m\u001b[43m,\u001b[49m\u001b[43m \u001b[49m\u001b[43mdepth\u001b[49m\u001b[38;5;241;43m=\u001b[39;49m\u001b[43meval_env\u001b[49m\u001b[43m,\u001b[49m\n\u001b[0;32m    204\u001b[0m \u001b[43m                          \u001b[49m\u001b[43mmissing\u001b[49m\u001b[38;5;241;43m=\u001b[39;49m\u001b[43mmissing\u001b[49m\u001b[43m)\u001b[49m\n\u001b[0;32m    205\u001b[0m ((endog, exog), missing_idx, design_info) \u001b[38;5;241m=\u001b[39m tmp\n\u001b[0;32m    206\u001b[0m max_endog \u001b[38;5;241m=\u001b[39m \u001b[38;5;28mcls\u001b[39m\u001b[38;5;241m.\u001b[39m_formula_max_endog\n",
      "File \u001b[1;32mc:\\Users\\Leonardo\\Desktop\\develhope\\projects\\real_estate_predictive_model\\leonardo.venv\\Lib\\site-packages\\statsmodels\\formula\\formulatools.py:63\u001b[0m, in \u001b[0;36mhandle_formula_data\u001b[1;34m(Y, X, formula, depth, missing)\u001b[0m\n\u001b[0;32m     61\u001b[0m \u001b[38;5;28;01melse\u001b[39;00m:\n\u001b[0;32m     62\u001b[0m     \u001b[38;5;28;01mif\u001b[39;00m data_util\u001b[38;5;241m.\u001b[39m_is_using_pandas(Y, \u001b[38;5;28;01mNone\u001b[39;00m):\n\u001b[1;32m---> 63\u001b[0m         result \u001b[38;5;241m=\u001b[39m \u001b[43mdmatrices\u001b[49m\u001b[43m(\u001b[49m\u001b[43mformula\u001b[49m\u001b[43m,\u001b[49m\u001b[43m \u001b[49m\u001b[43mY\u001b[49m\u001b[43m,\u001b[49m\u001b[43m \u001b[49m\u001b[43mdepth\u001b[49m\u001b[43m,\u001b[49m\u001b[43m \u001b[49m\u001b[43mreturn_type\u001b[49m\u001b[38;5;241;43m=\u001b[39;49m\u001b[38;5;124;43m'\u001b[39;49m\u001b[38;5;124;43mdataframe\u001b[39;49m\u001b[38;5;124;43m'\u001b[39;49m\u001b[43m,\u001b[49m\n\u001b[0;32m     64\u001b[0m \u001b[43m                           \u001b[49m\u001b[43mNA_action\u001b[49m\u001b[38;5;241;43m=\u001b[39;49m\u001b[43mna_action\u001b[49m\u001b[43m)\u001b[49m\n\u001b[0;32m     65\u001b[0m     \u001b[38;5;28;01melse\u001b[39;00m:\n\u001b[0;32m     66\u001b[0m         result \u001b[38;5;241m=\u001b[39m dmatrices(formula, Y, depth, return_type\u001b[38;5;241m=\u001b[39m\u001b[38;5;124m'\u001b[39m\u001b[38;5;124mdataframe\u001b[39m\u001b[38;5;124m'\u001b[39m,\n\u001b[0;32m     67\u001b[0m                            NA_action\u001b[38;5;241m=\u001b[39mna_action)\n",
      "File \u001b[1;32mc:\\Users\\Leonardo\\Desktop\\develhope\\projects\\real_estate_predictive_model\\leonardo.venv\\Lib\\site-packages\\patsy\\highlevel.py:319\u001b[0m, in \u001b[0;36mdmatrices\u001b[1;34m(formula_like, data, eval_env, NA_action, return_type)\u001b[0m\n\u001b[0;32m    309\u001b[0m \u001b[38;5;250m\u001b[39m\u001b[38;5;124;03m\"\"\"Construct two design matrices given a formula_like and data.\u001b[39;00m\n\u001b[0;32m    310\u001b[0m \n\u001b[0;32m    311\u001b[0m \u001b[38;5;124;03mThis function is identical to :func:`dmatrix`, except that it requires\u001b[39;00m\n\u001b[1;32m   (...)\u001b[0m\n\u001b[0;32m    316\u001b[0m \u001b[38;5;124;03mSee :func:`dmatrix` for details.\u001b[39;00m\n\u001b[0;32m    317\u001b[0m \u001b[38;5;124;03m\"\"\"\u001b[39;00m\n\u001b[0;32m    318\u001b[0m eval_env \u001b[38;5;241m=\u001b[39m EvalEnvironment\u001b[38;5;241m.\u001b[39mcapture(eval_env, reference\u001b[38;5;241m=\u001b[39m\u001b[38;5;241m1\u001b[39m)\n\u001b[1;32m--> 319\u001b[0m (lhs, rhs) \u001b[38;5;241m=\u001b[39m \u001b[43m_do_highlevel_design\u001b[49m\u001b[43m(\u001b[49m\n\u001b[0;32m    320\u001b[0m \u001b[43m    \u001b[49m\u001b[43mformula_like\u001b[49m\u001b[43m,\u001b[49m\u001b[43m \u001b[49m\u001b[43mdata\u001b[49m\u001b[43m,\u001b[49m\u001b[43m \u001b[49m\u001b[43meval_env\u001b[49m\u001b[43m,\u001b[49m\u001b[43m \u001b[49m\u001b[43mNA_action\u001b[49m\u001b[43m,\u001b[49m\u001b[43m \u001b[49m\u001b[43mreturn_type\u001b[49m\n\u001b[0;32m    321\u001b[0m \u001b[43m\u001b[49m\u001b[43m)\u001b[49m\n\u001b[0;32m    322\u001b[0m \u001b[38;5;28;01mif\u001b[39;00m lhs\u001b[38;5;241m.\u001b[39mshape[\u001b[38;5;241m1\u001b[39m] \u001b[38;5;241m==\u001b[39m \u001b[38;5;241m0\u001b[39m:\n\u001b[0;32m    323\u001b[0m     \u001b[38;5;28;01mraise\u001b[39;00m PatsyError(\u001b[38;5;124m\"\u001b[39m\u001b[38;5;124mmodel is missing required outcome variables\u001b[39m\u001b[38;5;124m\"\u001b[39m)\n",
      "File \u001b[1;32mc:\\Users\\Leonardo\\Desktop\\develhope\\projects\\real_estate_predictive_model\\leonardo.venv\\Lib\\site-packages\\patsy\\highlevel.py:164\u001b[0m, in \u001b[0;36m_do_highlevel_design\u001b[1;34m(formula_like, data, eval_env, NA_action, return_type)\u001b[0m\n\u001b[0;32m    161\u001b[0m \u001b[38;5;28;01mdef\u001b[39;00m\u001b[38;5;250m \u001b[39m\u001b[38;5;21mdata_iter_maker\u001b[39m():\n\u001b[0;32m    162\u001b[0m     \u001b[38;5;28;01mreturn\u001b[39;00m \u001b[38;5;28miter\u001b[39m([data])\n\u001b[1;32m--> 164\u001b[0m design_infos \u001b[38;5;241m=\u001b[39m \u001b[43m_try_incr_builders\u001b[49m\u001b[43m(\u001b[49m\n\u001b[0;32m    165\u001b[0m \u001b[43m    \u001b[49m\u001b[43mformula_like\u001b[49m\u001b[43m,\u001b[49m\u001b[43m \u001b[49m\u001b[43mdata_iter_maker\u001b[49m\u001b[43m,\u001b[49m\u001b[43m \u001b[49m\u001b[43meval_env\u001b[49m\u001b[43m,\u001b[49m\u001b[43m \u001b[49m\u001b[43mNA_action\u001b[49m\n\u001b[0;32m    166\u001b[0m \u001b[43m\u001b[49m\u001b[43m)\u001b[49m\n\u001b[0;32m    167\u001b[0m \u001b[38;5;28;01mif\u001b[39;00m design_infos \u001b[38;5;129;01mis\u001b[39;00m \u001b[38;5;129;01mnot\u001b[39;00m \u001b[38;5;28;01mNone\u001b[39;00m:\n\u001b[0;32m    168\u001b[0m     \u001b[38;5;28;01mreturn\u001b[39;00m build_design_matrices(\n\u001b[0;32m    169\u001b[0m         design_infos, data, NA_action\u001b[38;5;241m=\u001b[39mNA_action, return_type\u001b[38;5;241m=\u001b[39mreturn_type\n\u001b[0;32m    170\u001b[0m     )\n",
      "File \u001b[1;32mc:\\Users\\Leonardo\\Desktop\\develhope\\projects\\real_estate_predictive_model\\leonardo.venv\\Lib\\site-packages\\patsy\\highlevel.py:56\u001b[0m, in \u001b[0;36m_try_incr_builders\u001b[1;34m(formula_like, data_iter_maker, eval_env, NA_action)\u001b[0m\n\u001b[0;32m     54\u001b[0m \u001b[38;5;28;01mif\u001b[39;00m \u001b[38;5;28misinstance\u001b[39m(formula_like, ModelDesc):\n\u001b[0;32m     55\u001b[0m     \u001b[38;5;28;01massert\u001b[39;00m \u001b[38;5;28misinstance\u001b[39m(eval_env, EvalEnvironment)\n\u001b[1;32m---> 56\u001b[0m     \u001b[38;5;28;01mreturn\u001b[39;00m \u001b[43mdesign_matrix_builders\u001b[49m\u001b[43m(\u001b[49m\n\u001b[0;32m     57\u001b[0m \u001b[43m        \u001b[49m\u001b[43m[\u001b[49m\u001b[43mformula_like\u001b[49m\u001b[38;5;241;43m.\u001b[39;49m\u001b[43mlhs_termlist\u001b[49m\u001b[43m,\u001b[49m\u001b[43m \u001b[49m\u001b[43mformula_like\u001b[49m\u001b[38;5;241;43m.\u001b[39;49m\u001b[43mrhs_termlist\u001b[49m\u001b[43m]\u001b[49m\u001b[43m,\u001b[49m\n\u001b[0;32m     58\u001b[0m \u001b[43m        \u001b[49m\u001b[43mdata_iter_maker\u001b[49m\u001b[43m,\u001b[49m\n\u001b[0;32m     59\u001b[0m \u001b[43m        \u001b[49m\u001b[43meval_env\u001b[49m\u001b[43m,\u001b[49m\n\u001b[0;32m     60\u001b[0m \u001b[43m        \u001b[49m\u001b[43mNA_action\u001b[49m\u001b[43m,\u001b[49m\n\u001b[0;32m     61\u001b[0m \u001b[43m    \u001b[49m\u001b[43m)\u001b[49m\n\u001b[0;32m     62\u001b[0m \u001b[38;5;28;01melse\u001b[39;00m:\n\u001b[0;32m     63\u001b[0m     \u001b[38;5;28;01mreturn\u001b[39;00m \u001b[38;5;28;01mNone\u001b[39;00m\n",
      "File \u001b[1;32mc:\\Users\\Leonardo\\Desktop\\develhope\\projects\\real_estate_predictive_model\\leonardo.venv\\Lib\\site-packages\\patsy\\build.py:746\u001b[0m, in \u001b[0;36mdesign_matrix_builders\u001b[1;34m(termlists, data_iter_maker, eval_env, NA_action)\u001b[0m\n\u001b[0;32m    743\u001b[0m factor_states \u001b[38;5;241m=\u001b[39m _factors_memorize(all_factors, data_iter_maker, eval_env)\n\u001b[0;32m    744\u001b[0m \u001b[38;5;66;03m# Now all the factors have working eval methods, so we can evaluate them\u001b[39;00m\n\u001b[0;32m    745\u001b[0m \u001b[38;5;66;03m# on some data to find out what type of data they return.\u001b[39;00m\n\u001b[1;32m--> 746\u001b[0m (num_column_counts, cat_levels_contrasts) \u001b[38;5;241m=\u001b[39m \u001b[43m_examine_factor_types\u001b[49m\u001b[43m(\u001b[49m\n\u001b[0;32m    747\u001b[0m \u001b[43m    \u001b[49m\u001b[43mall_factors\u001b[49m\u001b[43m,\u001b[49m\u001b[43m \u001b[49m\u001b[43mfactor_states\u001b[49m\u001b[43m,\u001b[49m\u001b[43m \u001b[49m\u001b[43mdata_iter_maker\u001b[49m\u001b[43m,\u001b[49m\u001b[43m \u001b[49m\u001b[43mNA_action\u001b[49m\n\u001b[0;32m    748\u001b[0m \u001b[43m\u001b[49m\u001b[43m)\u001b[49m\n\u001b[0;32m    749\u001b[0m \u001b[38;5;66;03m# Now we need the factor infos, which encapsulate the knowledge of\u001b[39;00m\n\u001b[0;32m    750\u001b[0m \u001b[38;5;66;03m# how to turn any given factor into a chunk of data:\u001b[39;00m\n\u001b[0;32m    751\u001b[0m factor_infos \u001b[38;5;241m=\u001b[39m {}\n",
      "File \u001b[1;32mc:\\Users\\Leonardo\\Desktop\\develhope\\projects\\real_estate_predictive_model\\leonardo.venv\\Lib\\site-packages\\patsy\\build.py:491\u001b[0m, in \u001b[0;36m_examine_factor_types\u001b[1;34m(factors, factor_states, data_iter_maker, NA_action)\u001b[0m\n\u001b[0;32m    489\u001b[0m \u001b[38;5;28;01mfor\u001b[39;00m data \u001b[38;5;129;01min\u001b[39;00m data_iter_maker():\n\u001b[0;32m    490\u001b[0m     \u001b[38;5;28;01mfor\u001b[39;00m factor \u001b[38;5;129;01min\u001b[39;00m \u001b[38;5;28mlist\u001b[39m(examine_needed):\n\u001b[1;32m--> 491\u001b[0m         value \u001b[38;5;241m=\u001b[39m \u001b[43mfactor\u001b[49m\u001b[38;5;241;43m.\u001b[39;49m\u001b[43meval\u001b[49m\u001b[43m(\u001b[49m\u001b[43mfactor_states\u001b[49m\u001b[43m[\u001b[49m\u001b[43mfactor\u001b[49m\u001b[43m]\u001b[49m\u001b[43m,\u001b[49m\u001b[43m \u001b[49m\u001b[43mdata\u001b[49m\u001b[43m)\u001b[49m\n\u001b[0;32m    492\u001b[0m         \u001b[38;5;28;01mif\u001b[39;00m factor \u001b[38;5;129;01min\u001b[39;00m cat_sniffers \u001b[38;5;129;01mor\u001b[39;00m guess_categorical(value):\n\u001b[0;32m    493\u001b[0m             \u001b[38;5;28;01mif\u001b[39;00m factor \u001b[38;5;129;01mnot\u001b[39;00m \u001b[38;5;129;01min\u001b[39;00m cat_sniffers:\n",
      "File \u001b[1;32mc:\\Users\\Leonardo\\Desktop\\develhope\\projects\\real_estate_predictive_model\\leonardo.venv\\Lib\\site-packages\\patsy\\eval.py:599\u001b[0m, in \u001b[0;36mEvalFactor.eval\u001b[1;34m(self, memorize_state, data)\u001b[0m\n\u001b[0;32m    598\u001b[0m \u001b[38;5;28;01mdef\u001b[39;00m\u001b[38;5;250m \u001b[39m\u001b[38;5;21meval\u001b[39m(\u001b[38;5;28mself\u001b[39m, memorize_state, data):\n\u001b[1;32m--> 599\u001b[0m     \u001b[38;5;28;01mreturn\u001b[39;00m \u001b[38;5;28;43mself\u001b[39;49m\u001b[38;5;241;43m.\u001b[39;49m\u001b[43m_eval\u001b[49m\u001b[43m(\u001b[49m\u001b[43mmemorize_state\u001b[49m\u001b[43m[\u001b[49m\u001b[38;5;124;43m\"\u001b[39;49m\u001b[38;5;124;43meval_code\u001b[39;49m\u001b[38;5;124;43m\"\u001b[39;49m\u001b[43m]\u001b[49m\u001b[43m,\u001b[49m\u001b[43m \u001b[49m\u001b[43mmemorize_state\u001b[49m\u001b[43m,\u001b[49m\u001b[43m \u001b[49m\u001b[43mdata\u001b[49m\u001b[43m)\u001b[49m\n",
      "File \u001b[1;32mc:\\Users\\Leonardo\\Desktop\\develhope\\projects\\real_estate_predictive_model\\leonardo.venv\\Lib\\site-packages\\patsy\\eval.py:582\u001b[0m, in \u001b[0;36mEvalFactor._eval\u001b[1;34m(self, code, memorize_state, data)\u001b[0m\n\u001b[0;32m    580\u001b[0m \u001b[38;5;28;01mdef\u001b[39;00m\u001b[38;5;250m \u001b[39m\u001b[38;5;21m_eval\u001b[39m(\u001b[38;5;28mself\u001b[39m, code, memorize_state, data):\n\u001b[0;32m    581\u001b[0m     inner_namespace \u001b[38;5;241m=\u001b[39m VarLookupDict([data, memorize_state[\u001b[38;5;124m\"\u001b[39m\u001b[38;5;124mtransforms\u001b[39m\u001b[38;5;124m\"\u001b[39m]])\n\u001b[1;32m--> 582\u001b[0m     \u001b[38;5;28;01mreturn\u001b[39;00m \u001b[43mcall_and_wrap_exc\u001b[49m\u001b[43m(\u001b[49m\n\u001b[0;32m    583\u001b[0m \u001b[43m        \u001b[49m\u001b[38;5;124;43m\"\u001b[39;49m\u001b[38;5;124;43mError evaluating factor\u001b[39;49m\u001b[38;5;124;43m\"\u001b[39;49m\u001b[43m,\u001b[49m\n\u001b[0;32m    584\u001b[0m \u001b[43m        \u001b[49m\u001b[38;5;28;43mself\u001b[39;49m\u001b[43m,\u001b[49m\n\u001b[0;32m    585\u001b[0m \u001b[43m        \u001b[49m\u001b[43mmemorize_state\u001b[49m\u001b[43m[\u001b[49m\u001b[38;5;124;43m\"\u001b[39;49m\u001b[38;5;124;43meval_env\u001b[39;49m\u001b[38;5;124;43m\"\u001b[39;49m\u001b[43m]\u001b[49m\u001b[38;5;241;43m.\u001b[39;49m\u001b[43meval\u001b[49m\u001b[43m,\u001b[49m\n\u001b[0;32m    586\u001b[0m \u001b[43m        \u001b[49m\u001b[43mcode\u001b[49m\u001b[43m,\u001b[49m\n\u001b[0;32m    587\u001b[0m \u001b[43m        \u001b[49m\u001b[43minner_namespace\u001b[49m\u001b[38;5;241;43m=\u001b[39;49m\u001b[43minner_namespace\u001b[49m\u001b[43m,\u001b[49m\n\u001b[0;32m    588\u001b[0m \u001b[43m    \u001b[49m\u001b[43m)\u001b[49m\n",
      "File \u001b[1;32mc:\\Users\\Leonardo\\Desktop\\develhope\\projects\\real_estate_predictive_model\\leonardo.venv\\Lib\\site-packages\\patsy\\compat.py:43\u001b[0m, in \u001b[0;36mcall_and_wrap_exc\u001b[1;34m(msg, origin, f, *args, **kwargs)\u001b[0m\n\u001b[0;32m     41\u001b[0m \u001b[38;5;28;01mexcept\u001b[39;00m \u001b[38;5;167;01mException\u001b[39;00m \u001b[38;5;28;01mas\u001b[39;00m e:\n\u001b[0;32m     42\u001b[0m     new_exc \u001b[38;5;241m=\u001b[39m PatsyError(\u001b[38;5;124m\"\u001b[39m\u001b[38;5;132;01m%s\u001b[39;00m\u001b[38;5;124m: \u001b[39m\u001b[38;5;132;01m%s\u001b[39;00m\u001b[38;5;124m: \u001b[39m\u001b[38;5;132;01m%s\u001b[39;00m\u001b[38;5;124m\"\u001b[39m \u001b[38;5;241m%\u001b[39m (msg, e\u001b[38;5;241m.\u001b[39m\u001b[38;5;18m__class__\u001b[39m\u001b[38;5;241m.\u001b[39m\u001b[38;5;18m__name__\u001b[39m, e), origin)\n\u001b[1;32m---> 43\u001b[0m     \u001b[38;5;28;01mraise\u001b[39;00m new_exc \u001b[38;5;28;01mfrom\u001b[39;00m\u001b[38;5;250m \u001b[39m\u001b[38;5;21;01me\u001b[39;00m\n",
      "\u001b[1;31mPatsyError\u001b[0m: Error evaluating factor: NameError: name 'Descrizione_Tipologia_di_Immobile_Abitazioni_di_tipo_economico' is not defined\n    Q(\"Costo Minimo alla Vendita\") ~ Q(\"Indice di spopolamento\") + Q(\"Indice di occupazione\") + Q(\"Indice disoccupazione\") + Q(\"Tipo di località_Altri comuni non altrimenti classificati\") + Q(\"Tipo di località_Capoluogo senza specifici interessi turistici\") + Q(\"Tipo di località_Città d'Arte\") + Q(\"Tipo di località_Località collinari\") + Q(\"Tipo di località_Località lacuali\") + Q(\"Tipo di località_Località marine\") + Q(\"Tipo di località_Località montane\") + Q(\"Tipo di località_Località religiose\") + Q(\"Tipo di località_Località termali\") + PC_Economica + PC_Turistica_1 + PC_Turistica_2 + PC_Turistica_3 + PC_Turistica_4 + PC_Turistica_5 + PC_Turistica_6 + PC_Turistica_7 + PC_Turistica_8 + PC_Turistica_9 + PC_Turistica_10 + PC_Turistica_11 + PC_Turistica_12 + Macroarea_Isole + Macroarea_Nord + Macroarea_Sud + Descrizione_Tipologia_di_Immobile_Abitazioni_di_tipo_economico + Descrizione_Tipologia_di_Immobile_Abitazioni_signorili + Descrizione_Tipologia_di_Immobile_Abitazioni_tipiche_dei_luoghi + Descrizione_Tipologia_di_Immobile_Ville_e_Villini\n                                                                                                                                                                                                                                                                                                                                                                                                                                                                                                                                                                                                                                                                                                                                                                                                                                                   ^^^^^^^^^^^^^^^^^^^^^^^^^^^^^^^^^^^^^^^^^^^^^^^^^^^^^^^^^^^^^^"
     ]
    }
   ],
   "source": [
    "# Parameters estimation with statsmodels\n",
    "model1 = smf.ols('Q(\"Costo Minimo alla Vendita\") ~ Q(\"Indice di spopolamento\") + Q(\"Indice di occupazione\") + Q(\"Indice disoccupazione\") + Q(\"Tipo di località_Altri comuni non altrimenti classificati\") + Q(\"Tipo di località_Capoluogo senza specifici interessi turistici\") + Q(\"Tipo di località_Città d\\'Arte\") + Q(\"Tipo di località_Località collinari\") + Q(\"Tipo di località_Località lacuali\") + Q(\"Tipo di località_Località marine\") + Q(\"Tipo di località_Località montane\") + Q(\"Tipo di località_Località religiose\") + Q(\"Tipo di località_Località termali\") + PC_Economica + PC_Turistica_1 + PC_Turistica_2 + PC_Turistica_3 + PC_Turistica_4 + PC_Turistica_5 + PC_Turistica_6 + PC_Turistica_7 + PC_Turistica_8 + PC_Turistica_9 + PC_Turistica_10 + PC_Turistica_11 + PC_Turistica_12 + Macroarea_Isole + Macroarea_Nord + Macroarea_Sud + Descrizione_Tipologia_di_Immobile_Abitazioni_di_tipo_economico + Descrizione_Tipologia_di_Immobile_Abitazioni_signorili + Descrizione_Tipologia_di_Immobile_Abitazioni_tipiche_dei_luoghi + Descrizione_Tipologia_di_Immobile_Ville_e_Villini', data=train).fit()\n",
    "model1.summary()\n"
   ]
  },
  {
   "cell_type": "code",
   "execution_count": 11,
   "id": "648b1e26",
   "metadata": {},
   "outputs": [
    {
     "name": "stdout",
     "output_type": "stream",
     "text": [
      "<class 'pandas.core.frame.DataFrame'>\n",
      "RangeIndex: 21513 entries, 0 to 21512\n",
      "Data columns (total 49 columns):\n",
      " #   Column                                                          Non-Null Count  Dtype  \n",
      "---  ------                                                          --------------  -----  \n",
      " 0   id_istat                                                        21513 non-null  int64  \n",
      " 1   id_comune                                                       21512 non-null  object \n",
      " 2   Provincia                                                       21513 non-null  object \n",
      " 3   Regione                                                         21513 non-null  object \n",
      " 4   Ripartizione Geografica                                         21513 non-null  object \n",
      " 5   id_catastale                                                    21513 non-null  object \n",
      " 6   Indice di spopolamento                                          21512 non-null  float64\n",
      " 7   Codice regione                                                  21513 non-null  int64  \n",
      " 8   Capoluogo_enc                                                   21513 non-null  int64  \n",
      " 9   Codice comuni                                                   21513 non-null  float64\n",
      " 10  Indice di occupazione                                           21512 non-null  float64\n",
      " 11  Indice disoccupazione                                           21508 non-null  float64\n",
      " 12  Fascia                                                          21513 non-null  object \n",
      " 13  Descrizione Zona                                                21513 non-null  object \n",
      " 14  Sottofascia Zona                                                21513 non-null  object \n",
      " 15  Descrizione Tipologia di Immobile                               21513 non-null  object \n",
      " 16  id_univoco                                                      21513 non-null  object \n",
      " 17  Costo Minimo alla Vendita                                       21513 non-null  float64\n",
      " 18  Costo Massimo alla Vendita                                      21513 non-null  float64\n",
      " 19  Media Costo alla Vendita                                        21513 non-null  int64  \n",
      " 20  Costo Minimo alla Locazione                                     21513 non-null  float64\n",
      " 21  Costo Massimo alla Locazione                                    21513 non-null  float64\n",
      " 22  Media Costo alla Locazione                                      21513 non-null  float64\n",
      " 23  Cod. Circoscrizione Turistica                                   20556 non-null  float64\n",
      " 24  Tipo di località_Altri comuni non altrimenti classificati       21513 non-null  bool   \n",
      " 25  Tipo di località_Capoluogo senza specifici interessi turistici  21513 non-null  bool   \n",
      " 26  Tipo di località_Città d'Arte                                   21513 non-null  bool   \n",
      " 27  Tipo di località_Località collinari                             21513 non-null  bool   \n",
      " 28  Tipo di località_Località lacuali                               21513 non-null  bool   \n",
      " 29  Tipo di località_Località marine                                21513 non-null  bool   \n",
      " 30  Tipo di località_Località montane                               21513 non-null  bool   \n",
      " 31  Tipo di località_Località religiose                             21513 non-null  bool   \n",
      " 32  Tipo di località_Località termali                               21513 non-null  bool   \n",
      " 33  PC_Economica                                                    21513 non-null  float64\n",
      " 34  PC_Turistica_1                                                  21513 non-null  float64\n",
      " 35  PC_Turistica_2                                                  21513 non-null  float64\n",
      " 36  PC_Turistica_3                                                  21513 non-null  float64\n",
      " 37  PC_Turistica_4                                                  21513 non-null  float64\n",
      " 38  PC_Turistica_5                                                  21513 non-null  float64\n",
      " 39  PC_Turistica_6                                                  21513 non-null  float64\n",
      " 40  PC_Turistica_7                                                  21513 non-null  float64\n",
      " 41  PC_Turistica_8                                                  21513 non-null  float64\n",
      " 42  PC_Turistica_9                                                  21513 non-null  float64\n",
      " 43  PC_Turistica_10                                                 21513 non-null  float64\n",
      " 44  PC_Turistica_11                                                 21513 non-null  float64\n",
      " 45  PC_Turistica_12                                                 21513 non-null  float64\n",
      " 46  Macroarea_Isole                                                 21513 non-null  bool   \n",
      " 47  Macroarea_Nord                                                  21513 non-null  bool   \n",
      " 48  Macroarea_Sud                                                   21513 non-null  bool   \n",
      "dtypes: bool(12), float64(23), int64(4), object(10)\n",
      "memory usage: 6.3+ MB\n"
     ]
    }
   ],
   "source": [
    "df.info()"
   ]
  }
 ],
 "metadata": {
  "kernelspec": {
   "display_name": "leonardo.venv",
   "language": "python",
   "name": "python3"
  },
  "language_info": {
   "codemirror_mode": {
    "name": "ipython",
    "version": 3
   },
   "file_extension": ".py",
   "mimetype": "text/x-python",
   "name": "python",
   "nbconvert_exporter": "python",
   "pygments_lexer": "ipython3",
   "version": "3.12.8"
  }
 },
 "nbformat": 4,
 "nbformat_minor": 5
}
