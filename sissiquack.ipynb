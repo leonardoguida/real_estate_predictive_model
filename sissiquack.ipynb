{
 "cells": [
  {
   "cell_type": "code",
   "execution_count": 2,
   "metadata": {},
   "outputs": [
    {
     "name": "stdout",
     "output_type": "stream",
     "text": [
      "un polloooooo\n",
      "quaquaraqua\n",
      "t piac u pesc?\n",
      "ten nu pesc che è trup bell\n",
      "non sto mbriacato\n"
     ]
    }
   ],
   "source": [
    "print ('un polloooooo')\n",
    "print ('quaquaraqua')\n",
    "print ('t piac u pesc?')\n",
    "print ('ten nu pesc che è trup bell')\n",
    "print ('non sto mbriacato')"
   ]
  }
 ],
 "metadata": {
  "kernelspec": {
   "display_name": "Python 3",
   "language": "python",
   "name": "python3"
  },
  "language_info": {
   "codemirror_mode": {
    "name": "ipython",
    "version": 3
   },
   "file_extension": ".py",
   "mimetype": "text/x-python",
   "name": "python",
   "nbconvert_exporter": "python",
   "pygments_lexer": "ipython3",
   "version": "3.13.1"
  }
 },
 "nbformat": 4,
 "nbformat_minor": 2
}
